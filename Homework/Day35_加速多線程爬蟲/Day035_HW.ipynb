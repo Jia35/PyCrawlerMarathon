{
 "cells": [
  {
   "cell_type": "markdown",
   "metadata": {},
   "source": [
    "# 加速：多線程爬蟲\n",
    "\n",
    "\n",
    "\n",
    "* 了解知乎 API 使用方式與回傳內容\n",
    "* 撰寫程式存取 API 且添加標頭"
   ]
  },
  {
   "cell_type": "markdown",
   "metadata": {},
   "source": [
    "## 作業目標\n",
    "\n",
    "* 找一個之前實作過的爬蟲改用多線程改寫，比較前後時間的差異。\n",
    "\n",
    "\n",
    "\n"
   ]
  },
  {
   "cell_type": "code",
   "execution_count": 1,
   "metadata": {
    "scrolled": true
   },
   "outputs": [
    {
     "name": "stdout",
     "output_type": "stream",
     "text": [
      "=== 即時熱門前 10 名看板 ===\n",
      " 1. 感情\n",
      " 2. 心情\n",
      " 3. 有趣\n",
      " 4. 美妝\n",
      " 5. 女孩\n",
      " 6. 穿搭\n",
      " 7. 追星\n",
      " 8. YouTuber\n",
      " 9. 美食\n",
      "10. 時事\n"
     ]
    }
   ],
   "source": [
    "import requests\n",
    "import threading\n",
    "import _thread\n",
    "import time\n",
    "import json\n",
    "from bs4 import BeautifulSoup\n",
    "\n",
    "\n",
    "# 爬取 即時熱門前10名看板 中各自的第一名\n",
    "\n",
    "\n",
    "# 取得 \"抓取 Dcard 即時熱門看板\" 所需參數 pageKey\n",
    "url = 'https://www.dcard.tw/service/api/v2/popularForums/GetHead?listKey=popularForums'\n",
    "r = requests.get(url)\n",
    "if r.status_code == requests.codes.ok:\n",
    "    data = json.loads(r.text)\n",
    "    page_key = data['head']\n",
    "else:\n",
    "    print('網頁載入失敗')\n",
    "    page_key = ''\n",
    "\n",
    "# 抓取 Dcard 即時熱門看板 前10名看板\n",
    "url = f'https://www.dcard.tw/service/api/v2/popularForums/GetPage?pageKey={page_key}'\n",
    "r = requests.get(url)\n",
    "if r.status_code == requests.codes.ok:\n",
    "    data = json.loads(r.text)\n",
    "    popular_forums = data['items'][:10]\n",
    "else:\n",
    "    print('網頁載入失敗')\n",
    "    page_key = ''\n",
    "\n",
    "\n",
    "print(f'=== 即時熱門前 {len(popular_forums)} 名看板 ===')\n",
    "\n",
    "forums_url = []\n",
    "for index, popular_forum in enumerate(popular_forums):\n",
    "    print(f\"{index+1:2d}. {popular_forum['name']}\")\n",
    "    _url = f\"http://dcard.tw/_api/forums/{popular_forum['alias']}/posts?popular=true\"\n",
    "    forums_url.append(_url)"
   ]
  },
  {
   "cell_type": "code",
   "execution_count": 2,
   "metadata": {},
   "outputs": [],
   "source": [
    "def get_popular_article(forum_url):\n",
    "    \"\"\"取得看板文章列表中的第一篇文章資訊\"\"\"\n",
    "    r = requests.get(forum_url)\n",
    "    if r.status_code == requests.codes.ok:\n",
    "        data = json.loads(r.text)\n",
    "        title = data[0]['title']\n",
    "        create_tume = data[0]['createdAt']\n",
    "        forum_name = data[0]['forumName']\n",
    "        print(forum_name, title, create_tume)\n",
    "    else:\n",
    "        print(f'網頁載入失敗：{forum_url}')"
   ]
  },
  {
   "cell_type": "code",
   "execution_count": 3,
   "metadata": {},
   "outputs": [
    {
     "name": "stdout",
     "output_type": "stream",
     "text": [
      "感情 在宿舍啪這麼大聲，驚醒（有片 2020-08-27T18:05:54.207Z\n",
      "心情 被指控性騷擾 2020-08-27T15:23:50.522Z\n",
      "有趣 小朋友，在補習班這樣不妥吧... 2020-08-27T15:34:55.901Z\n",
      "美妝 *更* 妳一定要試試看的去除粉刺妙招! 2020-08-28T06:50:07.675Z\n",
      "女孩 真的羨慕大胸嗎？ 2020-08-28T12:36:23.561Z\n",
      "穿搭 ❤︎ ⌁⌁⌁⋆近期ㄉ穿搭⋆⌁⌁⌁ ❤︎ 2020-08-28T12:44:16.451Z\n",
      "追星 追星板板規 2019/10/15 起生效 2019-10-15T03:46:41.000Z\n",
      "YouTuber 【置頂】8月新興Youtuber精選推薦 2020-07-19T15:45:31.148Z\n",
      "美食 #公告  外送優惠集中串 2020-08-20T04:13:41.507Z\n",
      "時事 卡友您好，這裡是 Dcard 帳號安全小組 2019-12-26T06:19:11.620Z\n",
      "===== \"沒有\"多線程 花費時間：2.79673秒 =====\n"
     ]
    }
   ],
   "source": [
    "# 沒有使用多線程\n",
    "startTime = time.time()\n",
    "\n",
    "for forum_url in forums_url:\n",
    "    get_popular_article(forum_url)\n",
    "\n",
    "finishTime = time.time()\n",
    "print(f'===== \"沒有\"多線程 花費時間：{finishTime - startTime:.5f}秒 =====')"
   ]
  },
  {
   "cell_type": "code",
   "execution_count": 4,
   "metadata": {},
   "outputs": [
    {
     "name": "stdout",
     "output_type": "stream",
     "text": [
      "===== \"使用\"多線程 _thread 花費時間：0.00099秒 =====\n",
      "感情 在宿舍啪這麼大聲，驚醒（有片 2020-08-27T18:05:54.207Z時事 卡友您好，這裡是 Dcard 帳號安全小組 \n",
      "2019-12-26T06:19:11.620Z\n",
      "YouTuber 【置頂】8月新興Youtuber精選推薦 2020-07-19T15:45:31.148Z\n",
      "有趣 小朋友，在補習班這樣不妥吧... 2020-08-27T15:34:55.901Z\n",
      "美妝 *更* 妳一定要試試看的去除粉刺妙招! 2020-08-28T06:50:07.675Z\n",
      "女孩 真的羨慕大胸嗎？ 2020-08-28T12:36:23.561Z\n",
      "心情 被指控性騷擾 2020-08-27T15:23:50.522Z\n",
      "穿搭 ❤︎ ⌁⌁⌁⋆近期ㄉ穿搭⋆⌁⌁⌁ ❤︎ 2020-08-28T12:44:16.451Z\n",
      "美食 #公告  外送優惠集中串 2020-08-20T04:13:41.507Z\n",
      "追星 追星板板規 2019/10/15 起生效 2019-10-15T03:46:41.000Z\n"
     ]
    }
   ],
   "source": [
    "# 使用 _thread 多線程\n",
    "startTime = time.time()\n",
    "\n",
    "for forum_url in forums_url:\n",
    "    _thread.start_new_thread( get_popular_article, (forum_url, ) )\n",
    "\n",
    "finishTime = time.time()\n",
    "print(f'===== \"使用\"多線程 _thread 花費時間：{finishTime - startTime:.5f}秒 =====')"
   ]
  },
  {
   "cell_type": "markdown",
   "metadata": {},
   "source": [
    "**但使用 _thread 套件無法取得線程的回傳值，因此以上\"花費時間\"是不正確的，底下改用 threading 套件實作。**"
   ]
  },
  {
   "cell_type": "code",
   "execution_count": 5,
   "metadata": {},
   "outputs": [
    {
     "name": "stdout",
     "output_type": "stream",
     "text": [
      "時事 卡友您好，這裡是 Dcard 帳號安全小組 2019-12-26T06:19:11.620Z\n",
      "心情感情 在宿舍啪這麼大聲，驚醒（有片 2020-08-27T18:05:54.207Z\n",
      " 被指控性騷擾 2020-08-27T15:23:50.522Z\n",
      "追星 追星板板規 2019/10/15 起生效 2019-10-15T03:46:41.000Z\n",
      "穿搭 ❤︎ ⌁⌁⌁⋆近期ㄉ穿搭⋆⌁⌁⌁ ❤︎ 2020-08-28T12:44:16.451Z\n",
      "有趣 小朋友，在補習班這樣不妥吧... 2020-08-27T15:34:55.901Z\n",
      "美食 #公告  外送優惠集中串 2020-08-20T04:13:41.507Z\n",
      "美妝 *更* 妳一定要試試看的去除粉刺妙招! 2020-08-28T06:50:07.675Z\n",
      "女孩 真的羨慕大胸嗎？ 2020-08-28T12:36:23.561Z\n",
      "YouTuber 【置頂】8月新興Youtuber精選推薦 2020-07-19T15:45:31.148Z\n",
      "===== \"使用\"多線程 threading 花費時間：0.49933秒 =====\n"
     ]
    }
   ],
   "source": [
    "# 使用 threading 多線程\n",
    "startTime = time.time()\n",
    "\n",
    "job = []\n",
    "for index, forum_url in enumerate(forums_url):\n",
    "    job.append( threading.Thread(target=get_popular_article, args=(forum_url, )) )\n",
    "    job[index].start()\n",
    "    \n",
    "# 等待所有子執行緒結束\n",
    "for index in range(len(forums_url)):\n",
    "    job[index].join()\n",
    "\n",
    "finishTime = time.time()\n",
    "print(f'===== \"使用\"多線程 threading 花費時間：{finishTime - startTime:.5f}秒 =====')"
   ]
  },
  {
   "cell_type": "code",
   "execution_count": null,
   "metadata": {},
   "outputs": [],
   "source": []
  }
 ],
 "metadata": {
  "colab": {
   "name": "homework.ipynb",
   "provenance": []
  },
  "kernelspec": {
   "display_name": "Python 3",
   "language": "python",
   "name": "python3"
  },
  "language_info": {
   "codemirror_mode": {
    "name": "ipython",
    "version": 3
   },
   "file_extension": ".py",
   "mimetype": "text/x-python",
   "name": "python",
   "nbconvert_exporter": "python",
   "pygments_lexer": "ipython3",
   "version": "3.6.8"
  }
 },
 "nbformat": 4,
 "nbformat_minor": 1
}
