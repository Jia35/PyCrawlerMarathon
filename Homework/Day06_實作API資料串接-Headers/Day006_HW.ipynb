{
 "cells": [
  {
   "cell_type": "markdown",
   "metadata": {},
   "source": [
    "# API 資料串接 - 以 知乎 API 實作範例\n",
    "\n",
    "\n",
    "\n",
    "* 了解知乎 API 使用方式與回傳內容\n",
    "* 撰寫程式存取 API 且添加標頭\n",
    "\n",
    "\n"
   ]
  },
  {
   "cell_type": "markdown",
   "metadata": {},
   "source": [
    "## 作業目標\n",
    "\n",
    "* 根據範例提供的 API ，完成以下問題：\n",
    "\n",
    "    1. 取出知乎問題發問時間\n",
    "    2. 取出第一筆與最後一筆回答的時間\n"
   ]
  },
  {
   "cell_type": "markdown",
   "metadata": {},
   "source": [
    "### 1. 取出知乎問題發問時間"
   ]
  },
  {
   "cell_type": "code",
   "execution_count": 1,
   "metadata": {},
   "outputs": [
    {
     "name": "stdout",
     "output_type": "stream",
     "text": [
      "請輸入知乎問題ID (預設\"55493026\")：\n",
      "————————————————————————————————————\n",
      "問題標題：你们都是怎么学 Python 的？\n",
      "發問時間：2017/02/06 22:10:29\n",
      "問題網址：https://www.zhihu.com/question/55493026\n"
     ]
    }
   ],
   "source": [
    "# 1. 取出知乎問題發問時間\n",
    "\n",
    "import time\n",
    "import json\n",
    "import requests\n",
    "\n",
    "\n",
    "def transform_time(timestamp: str):\n",
    "    \"\"\"時間戳轉換\"\"\"\n",
    "    time_ = time.localtime(timestamp)\n",
    "    data_time = time.strftime(\"%Y/%m/%d %H:%M:%S\", time_)\n",
    "    return data_time\n",
    "\n",
    "\n",
    "problem_id = input('請輸入知乎問題ID (預設\"55493026\")：') or '55493026'\n",
    "\n",
    "# r = requests.get(f'https://www.zhihu.com/api/v4/questions/{problem_id}')\n",
    "# print(r.text)\n",
    "\n",
    "# 因為\"知乎 API\"會藉由 request header 裡的 User-Agent 來檢查，因此須加上此參數，方可正常取得網頁\n",
    "headers = {'user-agent': 'Mozilla/5.0 (Windows NT 10.0; Win64; x64) AppleWebKit/537.36 (KHTML, like Gecko) Chrome/83.0.4103.61 Safari/537.36'}\n",
    "r = requests.get(f'https://www.zhihu.com/api/v4/questions/{problem_id}', headers=headers)\n",
    "data = json.loads(r.text)\n",
    "\n",
    "print(f'————————————————————————————————————')\n",
    "print(f'問題標題：{data[\"title\"]}')\n",
    "print(f'發問時間：{transform_time(data[\"created\"])}')\n",
    "print(f'問題網址：https://www.zhihu.com/question/{data[\"id\"]}')\n"
   ]
  },
  {
   "cell_type": "markdown",
   "metadata": {},
   "source": [
    "### 2. 取出第一筆與最後一筆回答的時間"
   ]
  },
  {
   "cell_type": "code",
   "execution_count": 2,
   "metadata": {},
   "outputs": [
    {
     "name": "stdout",
     "output_type": "stream",
     "text": [
      "第一筆回答(最新)：2020/06/12 11:35:58\n",
      "最後一筆回答(最舊)：2017/02/07 09:12:49\n"
     ]
    }
   ],
   "source": [
    "# 2. 取出第一筆與最後一筆回答的時間\n",
    "# 其 API 使用說明可參考：https://www.jianshu.com/p/86139ab70b86\n",
    "\n",
    "base_url = f'https://www.zhihu.com/api/v4/questions/{problem_id}/answers?sort_by=created'\n",
    "\n",
    "# 第一筆回答(最新)\n",
    "_url = base_url + '&limit=1&offset=0'\n",
    "r = requests.get(_url, headers=headers)\n",
    "data = json.loads(r.text)\n",
    "first_answer_time = transform_time(data['data'][0][\"created_time\"])\n",
    "\n",
    "# 取得全部回答數量\n",
    "total_answer_num = data['paging']['totals']\n",
    "\n",
    "# 最後一筆回答(最舊)\n",
    "_url = base_url + '&limit=1&offset=' + str(total_answer_num - 1)\n",
    "r = requests.get(_url, headers=headers)\n",
    "data = json.loads(r.text)\n",
    "\n",
    "last_answer_time = transform_time(data['data'][0][\"created_time\"])\n",
    "\n",
    "print(f'第一筆回答(最新)：{first_answer_time}')\n",
    "print(f'最後一筆回答(最舊)：{last_answer_time}')"
   ]
  },
  {
   "cell_type": "code",
   "execution_count": null,
   "metadata": {},
   "outputs": [],
   "source": []
  }
 ],
 "metadata": {
  "kernelspec": {
   "display_name": "Python 3",
   "language": "python",
   "name": "python3"
  },
  "language_info": {
   "codemirror_mode": {
    "name": "ipython",
    "version": 3
   },
   "file_extension": ".py",
   "mimetype": "text/x-python",
   "name": "python",
   "nbconvert_exporter": "python",
   "pygments_lexer": "ipython3",
   "version": "3.6.8"
  }
 },
 "nbformat": 4,
 "nbformat_minor": 2
}
