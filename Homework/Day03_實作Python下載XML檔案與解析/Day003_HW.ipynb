{
 "cells": [
  {
   "cell_type": "markdown",
   "metadata": {},
   "source": [
    "# Python 下載XML檔案與解析\n",
    "\n",
    "\n",
    "* 了解 xml 檔案格式與內容\n",
    "* 能夠利用套件存取 xml 格式的檔案\n"
   ]
  },
  {
   "cell_type": "markdown",
   "metadata": {},
   "source": [
    "## 作業目標\n",
    "\n",
    "* 比較一下範例檔案中的「File I/O」與「xmltodict」讀出來的內容有什麼差異\n",
    "\n",
    "* 根據範例檔案的結果：\n",
    "    1. 請問高雄市有多少地區有溫度資料？\n",
    "    2. 請取出每一個地區所記錄的第一個時間點跟溫度\n",
    "    3. 請取出第一個地區所記錄的每一個時間點跟溫度"
   ]
  },
  {
   "cell_type": "markdown",
   "metadata": {},
   "source": [
    "### 比較一下範例檔案中的「File I/O」與「xmltodict」讀出來的內容有什麼差異\n"
   ]
  },
  {
   "cell_type": "code",
   "execution_count": 7,
   "metadata": {},
   "outputs": [
    {
     "name": "stdout",
     "output_type": "stream",
     "text": [
      "File I/O 讀取出來是以 String 的型態；\n",
      "xmltodict 會轉換成 Dict 的型態，後續方便操作。\n",
      "\n",
      "============== File I/O ==============\n",
      "<?xml version=\"1.0\" encoding=\"UTF-8\"?>\n",
      "<CUPOY>\n",
      "    <Title>爬蟲馬拉松</Title>\n",
      "    <Author>Wei</Author>\n",
      "    <Chapters>\n",
      "        <Chapter name=\"01\">資料來源與存取</Chapter>\n",
      "        <Chapter name=\"02\">靜態網頁爬蟲</Chapter>\n",
      "        <Chapter name=\"03\">動態網頁爬蟲</Chapter>\n",
      "    </Chapters>\n",
      "</CUPOY>\n",
      "格式：<class 'str'>\n",
      "\n",
      "============== xmltodict ==============\n",
      "{'CUPOY': OrderedDict([('Title', '爬蟲馬拉松'), ('Author', 'Wei'), ('Chapters', OrderedDict([('Chapter', [OrderedDict([('@name', '01'), ('#text', '資料來源與存取')]), OrderedDict([('@name', '02'), ('#text', '靜態網頁爬蟲')]), OrderedDict([('@name', '03'), ('#text', '動態網頁爬蟲')])])]))])}\n",
      "格式：<class 'dict'>\n"
     ]
    }
   ],
   "source": [
    "import xmltodict\n",
    "\n",
    "print(\n",
    "'File I/O 讀取出來是以 String 的型態；\\n'\n",
    "'xmltodict 會轉換成 Dict 的型態，後續方便操作。\\n'\n",
    ")\n",
    "\n",
    "# File I/O\n",
    "print('============== File I/O ==============')\n",
    "with open('./data/sample.xml', encoding='UTF-8') as fh:\n",
    "    text = fh.read()\n",
    "    print(text)\n",
    "    print(f'格式：{type(text)}\\n')\n",
    "\n",
    "# xmltodict\n",
    "print('============== xmltodict ==============')\n",
    "# 存取檔案\n",
    "with open('./data/sample.xml', encoding='UTF-8') as fd:\n",
    "    doc = dict(xmltodict.parse(fd.read()))\n",
    "    print(doc)\n",
    "    print(f'格式：{type(doc)}')"
   ]
  },
  {
   "cell_type": "markdown",
   "metadata": {},
   "source": [
    "### 根據範例檔案的結果：\n",
    "\n",
    "1. 請問高雄市有多少地區有溫度資料？\n",
    "2. 請取出每一個地區所記錄的第一個時間點跟溫度\n",
    "3. 請取出第一個地區所記錄的每一個時間點跟溫度"
   ]
  },
  {
   "cell_type": "code",
   "execution_count": 8,
   "metadata": {},
   "outputs": [
    {
     "name": "stdout",
     "output_type": "stream",
     "text": [
      "此檔案共有 38 筆高雄市的地區有溫度資料\n"
     ]
    }
   ],
   "source": [
    "# 1. 請問高雄市有多少地區有溫度資料？\n",
    "\n",
    "import xmltodict\n",
    "\n",
    "weather_dict = {}\n",
    "\n",
    "# 存取檔案\n",
    "with open('./data/64_72hr_CH.xml', encoding='UTF-8') as fd:\n",
    "    doc = dict(xmltodict.parse(fd.read()))\n",
    "    \n",
    "weathers = doc['cwbopendata']['dataset']['locations']['location']\n",
    "print(f'此檔案共有 {len(weathers)} 筆高雄市的地區有溫度資料')"
   ]
  },
  {
   "cell_type": "code",
   "execution_count": 9,
   "metadata": {},
   "outputs": [
    {
     "name": "stdout",
     "output_type": "stream",
     "text": [
      "鹽埕區 | 溫度：33 攝氏度 | 時間點：2019-06-28T12:00:00+08:00\n",
      "鼓山區 | 溫度：33 攝氏度 | 時間點：2019-06-28T12:00:00+08:00\n",
      "左營區 | 溫度：33 攝氏度 | 時間點：2019-06-28T12:00:00+08:00\n",
      "楠梓區 | 溫度：34 攝氏度 | 時間點：2019-06-28T12:00:00+08:00\n",
      "三民區 | 溫度：32 攝氏度 | 時間點：2019-06-28T12:00:00+08:00\n",
      "新興區 | 溫度：33 攝氏度 | 時間點：2019-06-28T12:00:00+08:00\n",
      "前金區 | 溫度：33 攝氏度 | 時間點：2019-06-28T12:00:00+08:00\n",
      "苓雅區 | 溫度：33 攝氏度 | 時間點：2019-06-28T12:00:00+08:00\n",
      "前鎮區 | 溫度：33 攝氏度 | 時間點：2019-06-28T12:00:00+08:00\n",
      "旗津區 | 溫度：32 攝氏度 | 時間點：2019-06-28T12:00:00+08:00\n",
      "小港區 | 溫度：33 攝氏度 | 時間點：2019-06-28T12:00:00+08:00\n",
      "鳳山區 | 溫度：34 攝氏度 | 時間點：2019-06-28T12:00:00+08:00\n",
      "林園區 | 溫度：33 攝氏度 | 時間點：2019-06-28T12:00:00+08:00\n",
      "大寮區 | 溫度：34 攝氏度 | 時間點：2019-06-28T12:00:00+08:00\n",
      "大樹區 | 溫度：34 攝氏度 | 時間點：2019-06-28T12:00:00+08:00\n",
      "大社區 | 溫度：34 攝氏度 | 時間點：2019-06-28T12:00:00+08:00\n",
      "仁武區 | 溫度：33 攝氏度 | 時間點：2019-06-28T12:00:00+08:00\n",
      "鳥松區 | 溫度：34 攝氏度 | 時間點：2019-06-28T12:00:00+08:00\n",
      "岡山區 | 溫度：34 攝氏度 | 時間點：2019-06-28T12:00:00+08:00\n",
      "橋頭區 | 溫度：35 攝氏度 | 時間點：2019-06-28T12:00:00+08:00\n",
      "燕巢區 | 溫度：34 攝氏度 | 時間點：2019-06-28T12:00:00+08:00\n",
      "田寮區 | 溫度：34 攝氏度 | 時間點：2019-06-28T12:00:00+08:00\n",
      "阿蓮區 | 溫度：34 攝氏度 | 時間點：2019-06-28T12:00:00+08:00\n",
      "路竹區 | 溫度：33 攝氏度 | 時間點：2019-06-28T12:00:00+08:00\n",
      "湖內區 | 溫度：33 攝氏度 | 時間點：2019-06-28T12:00:00+08:00\n",
      "茄萣區 | 溫度：33 攝氏度 | 時間點：2019-06-28T12:00:00+08:00\n",
      "永安區 | 溫度：32 攝氏度 | 時間點：2019-06-28T12:00:00+08:00\n",
      "彌陀區 | 溫度：32 攝氏度 | 時間點：2019-06-28T12:00:00+08:00\n",
      "梓官區 | 溫度：32 攝氏度 | 時間點：2019-06-28T12:00:00+08:00\n",
      "旗山區 | 溫度：34 攝氏度 | 時間點：2019-06-28T12:00:00+08:00\n",
      "美濃區 | 溫度：34 攝氏度 | 時間點：2019-06-28T12:00:00+08:00\n",
      "六龜區 | 溫度：34 攝氏度 | 時間點：2019-06-28T12:00:00+08:00\n",
      "甲仙區 | 溫度：33 攝氏度 | 時間點：2019-06-28T12:00:00+08:00\n",
      "杉林區 | 溫度：36 攝氏度 | 時間點：2019-06-28T12:00:00+08:00\n",
      "內門區 | 溫度：34 攝氏度 | 時間點：2019-06-28T12:00:00+08:00\n",
      "茂林區 | 溫度：34 攝氏度 | 時間點：2019-06-28T12:00:00+08:00\n",
      "桃源區 | 溫度：31 攝氏度 | 時間點：2019-06-28T12:00:00+08:00\n",
      "那瑪夏區 | 溫度：29 攝氏度 | 時間點：2019-06-28T12:00:00+08:00\n"
     ]
    }
   ],
   "source": [
    "# 2. 請取出每一個地區所記錄的第一個時間點跟溫度\n",
    "\n",
    "for weather in weathers:\n",
    "    location_name = weather['locationName']\n",
    "    for category in weather['weatherElement']:\n",
    "        if category['description'] == '溫度':\n",
    "            predict_time = category['time'][0]['dataTime']\n",
    "            predict_value = category['time'][0]['elementValue']['value']\n",
    "            predict_measures = category['time'][0]['elementValue']['measures']\n",
    "            break\n",
    "    print(f'{location_name} | 溫度：{predict_value} {predict_measures} | 時間點：{predict_time}')\n",
    "    "
   ]
  },
  {
   "cell_type": "code",
   "execution_count": 4,
   "metadata": {},
   "outputs": [
    {
     "name": "stdout",
     "output_type": "stream",
     "text": [
      "[鹽埕區]\n",
      "溫度: 33 攝氏度 | 時間點: 2019-06-28T12:00:00+08:00\n",
      "溫度: 33 攝氏度 | 時間點: 2019-06-28T15:00:00+08:00\n",
      "溫度: 32 攝氏度 | 時間點: 2019-06-28T18:00:00+08:00\n",
      "溫度: 30 攝氏度 | 時間點: 2019-06-28T21:00:00+08:00\n",
      "溫度: 30 攝氏度 | 時間點: 2019-06-29T00:00:00+08:00\n",
      "溫度: 29 攝氏度 | 時間點: 2019-06-29T03:00:00+08:00\n",
      "溫度: 28 攝氏度 | 時間點: 2019-06-29T06:00:00+08:00\n",
      "溫度: 31 攝氏度 | 時間點: 2019-06-29T09:00:00+08:00\n",
      "溫度: 32 攝氏度 | 時間點: 2019-06-29T12:00:00+08:00\n",
      "溫度: 32 攝氏度 | 時間點: 2019-06-29T15:00:00+08:00\n",
      "溫度: 31 攝氏度 | 時間點: 2019-06-29T18:00:00+08:00\n",
      "溫度: 30 攝氏度 | 時間點: 2019-06-29T21:00:00+08:00\n",
      "溫度: 29 攝氏度 | 時間點: 2019-06-30T00:00:00+08:00\n",
      "溫度: 28 攝氏度 | 時間點: 2019-06-30T03:00:00+08:00\n",
      "溫度: 28 攝氏度 | 時間點: 2019-06-30T06:00:00+08:00\n",
      "溫度: 31 攝氏度 | 時間點: 2019-06-30T09:00:00+08:00\n",
      "溫度: 32 攝氏度 | 時間點: 2019-06-30T12:00:00+08:00\n",
      "溫度: 32 攝氏度 | 時間點: 2019-06-30T15:00:00+08:00\n",
      "溫度: 31 攝氏度 | 時間點: 2019-06-30T18:00:00+08:00\n",
      "溫度: 30 攝氏度 | 時間點: 2019-06-30T21:00:00+08:00\n",
      "溫度: 29 攝氏度 | 時間點: 2019-07-01T00:00:00+08:00\n",
      "溫度: 29 攝氏度 | 時間點: 2019-07-01T03:00:00+08:00\n",
      "溫度: 28 攝氏度 | 時間點: 2019-07-01T06:00:00+08:00\n",
      "溫度: 31 攝氏度 | 時間點: 2019-07-01T09:00:00+08:00\n"
     ]
    }
   ],
   "source": [
    "# 3. 請取出第一個地區所記錄的每一個時間點跟溫度\n",
    "\n",
    "location_weather = weathers[0]\n",
    "\n",
    "print(f\"[{location_weather['locationName']}]\")\n",
    "for category in location_weather['weatherElement']:\n",
    "    if category['description'] == '溫度':\n",
    "        temperatures = category['time']\n",
    "        for temperature in temperatures:\n",
    "            predict_time = temperature['dataTime']\n",
    "            predict_value = temperature['elementValue']['value']\n",
    "            predict_measures = temperature['elementValue']['measures']\n",
    "            print(f'溫度: {predict_value} {predict_measures} | 時間點: {predict_time}')\n",
    "    \n",
    "        break"
   ]
  },
  {
   "cell_type": "code",
   "execution_count": null,
   "metadata": {},
   "outputs": [],
   "source": []
  }
 ],
 "metadata": {
  "kernelspec": {
   "display_name": "Python 3",
   "language": "python",
   "name": "python3"
  },
  "language_info": {
   "codemirror_mode": {
    "name": "ipython",
    "version": 3
   },
   "file_extension": ".py",
   "mimetype": "text/x-python",
   "name": "python",
   "nbconvert_exporter": "python",
   "pygments_lexer": "ipython3",
   "version": "3.6.8"
  }
 },
 "nbformat": 4,
 "nbformat_minor": 2
}
