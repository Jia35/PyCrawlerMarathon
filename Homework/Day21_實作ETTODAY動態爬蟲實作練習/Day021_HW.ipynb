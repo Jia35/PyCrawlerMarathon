{
 "cells": [
  {
   "cell_type": "markdown",
   "metadata": {},
   "source": [
    "# Ettoday 網路爬蟲實作練習\n",
    "\n",
    "\n",
    "* 能夠利用 Request + BeatifulSour 撰寫爬蟲，並存放到合適的資料結構\n"
   ]
  },
  {
   "cell_type": "markdown",
   "metadata": {},
   "source": [
    "## 作業目標\n",
    "\n",
    "根據範例：\n",
    "\n",
    "1. 取出今天所有的新聞\n",
    "2. 取出現在時間兩小時內的新聞\n",
    "3. 根據範例，取出三天前下午三點到五點的新聞"
   ]
  },
  {
   "cell_type": "code",
   "execution_count": 1,
   "metadata": {},
   "outputs": [],
   "source": [
    "import time\n",
    "from pprint import pprint\n",
    "from bs4 import BeautifulSoup\n",
    "from selenium import webdriver\n",
    "from datetime import datetime, timedelta"
   ]
  },
  {
   "cell_type": "markdown",
   "metadata": {},
   "source": [
    "## 1. 取出今天所有的新聞"
   ]
  },
  {
   "cell_type": "code",
   "execution_count": 2,
   "metadata": {},
   "outputs": [
    {
     "name": "stdout",
     "output_type": "stream",
     "text": [
      "2020-06-25 11:59:00\n",
      "2020-06-25 11:46:00\n",
      "2020-06-25 11:25:00\n",
      "2020-06-25 11:14:00\n",
      "2020-06-25 11:04:00\n",
      "2020-06-25 11:00:00\n",
      "2020-06-25 10:43:00\n",
      "2020-06-25 10:30:00\n",
      "2020-06-25 10:22:00\n",
      "2020-06-25 10:15:00\n",
      "2020-06-25 10:01:00\n",
      "2020-06-25 09:37:00\n",
      "2020-06-25 09:10:00\n",
      "2020-06-25 08:48:00\n",
      "2020-06-25 08:19:00\n",
      "2020-06-25 07:49:00\n",
      "2020-06-25 07:00:00\n",
      "2020-06-25 06:28:00\n",
      "2020-06-25 02:17:00\n",
      "2020-06-25 01:21:00\n",
      "2020-06-25 00:36:00\n",
      "2020-06-24 23:32:00\n"
     ]
    }
   ],
   "source": [
    "browser = webdriver.Chrome(executable_path='../chromedriver')\n",
    "browser.get(\"https://www.ettoday.net/news/news-list.htm\")\n",
    "\n",
    "# 滾動到座標點\n",
    "browser.execute_script(\"window.scrollTo(0, 10000);\")\n",
    "time.sleep(3)\n",
    "\n",
    "is_continue = True\n",
    "while is_continue:\n",
    "    # 滾動的量\n",
    "    browser.execute_script(\"window.scrollBy(0, 1000);\")\n",
    "    time.sleep(1)\n",
    "    \n",
    "    html_source = browser.page_source\n",
    "    soup = BeautifulSoup(html_source, features='lxml')\n",
    "    \n",
    "    # 取得目前最後一則新聞的時間，判斷是否該結束\n",
    "    last_news = soup.find(class_=\"part_list_2\").find_all('h3')[-1]\n",
    "    last_news_time = last_news.find(class_=\"date\").text\n",
    "    last_news_time = datetime.strptime(last_news_time, '%Y/%m/%d %H:%M')\n",
    "    print(last_news_time)\n",
    "    if last_news_time.date() != datetime.now().date():\n",
    "        is_continue = False\n",
    "\n",
    "all_news = []\n",
    "for d in soup.find(class_=\"part_list_2\").find_all('h3'):\n",
    "    news_time = d.find(class_=\"date\").text\n",
    "    news_time = datetime.strptime(news_time, '%Y/%m/%d %H:%M')\n",
    "    if news_time.date() == datetime.now().date():\n",
    "        all_news.append(\n",
    "            {\n",
    "                'date': news_time,\n",
    "                'title': d.find_all('a')[-1].text,\n",
    "                'url': 'https://www.ettoday.net' + d.find_all('a')[-1].get('href')\n",
    "            }\n",
    "        )\n",
    "    else:\n",
    "        break\n",
    "\n",
    "# 關閉瀏覽器\n",
    "browser.quit()"
   ]
  },
  {
   "cell_type": "code",
   "execution_count": 3,
   "metadata": {},
   "outputs": [
    {
     "name": "stdout",
     "output_type": "stream",
     "text": [
      "到目前為止，今日的新聞共有 325 則\n",
      "\n",
      "————— 最新的前三則 —————\n",
      "[{'date': datetime.datetime(2020, 6, 25, 14, 41),\n",
      "  'title': '麥當勞衛生紙長短不一樣\\u3000她困擾10多年「實驗破解了」！網笑翻...員工解答',\n",
      "  'url': 'https://www.ettoday.net/news/20200625/1746276.htm'},\n",
      " {'date': datetime.datetime(2020, 6, 25, 14, 40),\n",
      "  'title': '雲南「27人船隻」深夜翻沉！10人被吞沒失蹤...河灘驚現死屍',\n",
      "  'url': 'https://www.ettoday.net/news/20200625/1746334.htm'},\n",
      " {'date': datetime.datetime(2020, 6, 25, 14, 40),\n",
      "  'title': '全美單日暴增4.5萬例創新高！西南各州疫情慘烈\\u3000專家點破關鍵',\n",
      "  'url': 'https://www.ettoday.net/news/20200625/1746318.htm'}]\n",
      "\n",
      "————— 最舊的後三則 —————\n",
      "[{'date': datetime.datetime(2020, 6, 25, 0, 3),\n",
      "  'title': '退伍軍人皮膚僵硬、嘴巴萎縮\\u3000竟是「硬皮症」上身需換肺',\n",
      "  'url': 'https://www.ettoday.net/news/20200625/1744355.htm'},\n",
      " {'date': datetime.datetime(2020, 6, 25, 0, 2),\n",
      "  'title': '經常覺得疲勞要小心！錯誤減肥5大徵兆\\u3000難怪瘦沒多久又復胖',\n",
      "  'url': 'https://www.ettoday.net/news/20200625/1737365.htm'},\n",
      " {'date': datetime.datetime(2020, 6, 25, 0, 0),\n",
      "  'title': '815決勝高雄！「藍綠白」完成登記\\u3000三腳督激戰50天',\n",
      "  'url': 'https://www.ettoday.net/news/20200625/1745932.htm'}]\n"
     ]
    }
   ],
   "source": [
    "print(f'到目前為止，今日的新聞共有 {len(all_news)} 則')\n",
    "print('\\n————— 最新的前三則 —————')\n",
    "pprint(all_news[:3])\n",
    "print('\\n————— 最舊的後三則 —————')\n",
    "pprint(all_news[-3:])"
   ]
  },
  {
   "cell_type": "markdown",
   "metadata": {},
   "source": [
    "## 2. 取出現在時間兩小時內的新聞"
   ]
  },
  {
   "cell_type": "code",
   "execution_count": 4,
   "metadata": {},
   "outputs": [
    {
     "name": "stdout",
     "output_type": "stream",
     "text": [
      "2020-06-25 11:59:00\n",
      "到現在時間兩小時內的新聞共有 81 則\n",
      "\n",
      "————— 最新的前三則 —————\n",
      "[{'date': datetime.datetime(2020, 6, 25, 14, 41),\n",
      "  'title': '麥當勞衛生紙長短不一樣\\u3000她困擾10多年「實驗破解了」！網笑翻...員工解答',\n",
      "  'url': 'https://www.ettoday.net/news/20200625/1746276.htm'},\n",
      " {'date': datetime.datetime(2020, 6, 25, 14, 40),\n",
      "  'title': '雲南「27人船隻」深夜翻沉！10人被吞沒失蹤...河灘驚現死屍',\n",
      "  'url': 'https://www.ettoday.net/news/20200625/1746334.htm'},\n",
      " {'date': datetime.datetime(2020, 6, 25, 14, 40),\n",
      "  'title': '全美單日暴增4.5萬例創新高！西南各州疫情慘烈\\u3000專家點破關鍵',\n",
      "  'url': 'https://www.ettoday.net/news/20200625/1746318.htm'}]\n",
      "\n",
      "————— 最舊的後三則 —————\n",
      "[{'date': datetime.datetime(2020, 6, 25, 12, 49),\n",
      "  'title': '桃園某國中色教練叫女學生進房\\u3000「舒服嗎？」吮胸又指侵！多人受害',\n",
      "  'url': 'https://www.ettoday.net/news/20200625/1746265.htm'},\n",
      " {'date': datetime.datetime(2020, 6, 25, 12, 48),\n",
      "  'title': '黃珊珊曬合照力挺吳益政：他已準備了20年\\u3000是最好的市長人選',\n",
      "  'url': 'https://www.ettoday.net/news/20200625/1746280.htm'},\n",
      " {'date': datetime.datetime(2020, 6, 25, 12, 47),\n",
      "  'title': '夏天就大露特露吧！「6大身型」超實用背心挑選技巧\\u3000無袖也可以很顯瘦',\n",
      "  'url': 'https://www.ettoday.net/news/20200625/1739256.htm'}]\n"
     ]
    }
   ],
   "source": [
    "browser = webdriver.Chrome(executable_path='../chromedriver')\n",
    "browser.get(\"https://www.ettoday.net/news/news-list.htm\")\n",
    "\n",
    "# 設定擷取時間\n",
    "capture_time = datetime.now() - timedelta(hours=2)\n",
    "\n",
    "# 滾動到座標點\n",
    "browser.execute_script(\"window.scrollTo(0, 10000);\")\n",
    "time.sleep(3)\n",
    "\n",
    "is_continue = True\n",
    "while is_continue:\n",
    "    # 滾動的量\n",
    "    browser.execute_script(\"window.scrollBy(0, 1000);\")\n",
    "    time.sleep(1)\n",
    "    \n",
    "    html_source = browser.page_source\n",
    "    soup = BeautifulSoup(html_source, features='lxml')\n",
    "    \n",
    "    # 取得目前最後一則新聞的時間，判斷是否該結束\n",
    "    last_news = soup.find(class_=\"part_list_2\").find_all('h3')[-1]\n",
    "    last_news_time = last_news.find(class_=\"date\").text\n",
    "    last_news_time = datetime.strptime(last_news_time, '%Y/%m/%d %H:%M')\n",
    "    print(last_news_time)\n",
    "    if last_news_time < capture_time:\n",
    "        is_continue = False\n",
    "\n",
    "all_news = []\n",
    "for d in soup.find(class_=\"part_list_2\").find_all('h3'):\n",
    "    news_time = d.find(class_=\"date\").text\n",
    "    news_time = datetime.strptime(news_time, '%Y/%m/%d %H:%M')\n",
    "    if news_time >= capture_time:\n",
    "        all_news.append(\n",
    "            {\n",
    "                'date': news_time,\n",
    "                'title': d.find_all('a')[-1].text,\n",
    "                'url': 'https://www.ettoday.net' + d.find_all('a')[-1].get('href')\n",
    "            }\n",
    "        )\n",
    "    else:\n",
    "        break\n",
    "\n",
    "# 關閉瀏覽器\n",
    "browser.quit()\n",
    "\n",
    "print(f'到現在時間兩小時內的新聞共有 {len(all_news)} 則')\n",
    "print('\\n————— 最新的前三則 —————')\n",
    "pprint(all_news[:3])\n",
    "print('\\n————— 最舊的後三則 —————')\n",
    "pprint(all_news[-3:])"
   ]
  },
  {
   "cell_type": "markdown",
   "metadata": {},
   "source": [
    "## 3. 根據範例，取出三天前下午三點到五點的新聞"
   ]
  },
  {
   "cell_type": "markdown",
   "metadata": {},
   "source": [
    "改變上方查詢時間後，可以看到跳到以下網址，直接透過此網址來爬取。  \n",
    "\"https://www.ettoday.net/news/news-list-2020-6-16-0.htm\"\n",
    "![改變日期](change_date.png)"
   ]
  },
  {
   "cell_type": "code",
   "execution_count": 5,
   "metadata": {},
   "outputs": [
    {
     "name": "stdout",
     "output_type": "stream",
     "text": [
      "2020-06-22 18:39:00\n",
      "2020-06-22 18:27:00\n",
      "2020-06-22 18:20:00\n",
      "2020-06-22 18:06:00\n",
      "2020-06-22 17:55:00\n",
      "2020-06-22 17:42:00\n",
      "2020-06-22 17:38:00\n",
      "2020-06-22 17:30:00\n",
      "2020-06-22 17:14:00\n",
      "2020-06-22 17:14:00\n",
      "2020-06-22 17:00:00\n",
      "2020-06-22 16:42:00\n",
      "2020-06-22 16:31:00\n",
      "2020-06-22 16:23:00\n",
      "2020-06-22 16:23:00\n",
      "2020-06-22 16:16:00\n",
      "2020-06-22 16:07:00\n",
      "2020-06-22 16:01:00\n",
      "2020-06-22 15:54:00\n",
      "2020-06-22 15:44:00\n",
      "2020-06-22 15:36:00\n",
      "2020-06-22 15:26:00\n",
      "2020-06-22 15:13:00\n",
      "2020-06-22 15:00:00\n",
      "2020-06-22 14:51:00\n"
     ]
    }
   ],
   "source": [
    "# 設定擷取時間(三天前下午三點到五點)\n",
    "_time = datetime.now() - timedelta(days=3)\n",
    "start_time = datetime(_time.year, _time.month, _time.day, 15, 0, 0)\n",
    "end_time = datetime(_time.year, _time.month, _time.day, 17, 0, 0)\n",
    "time_text = start_time.strftime(\"%Y-%m-%d\")\n",
    "url = f'https://www.ettoday.net/news/news-list-{time_text}-0.htm'\n",
    "\n",
    "browser = webdriver.Chrome(executable_path='../chromedriver')\n",
    "browser.get(url)\n",
    "\n",
    "# 擷取時間\n",
    "capture_time = datetime.now() - timedelta(hours=2)\n",
    "\n",
    "# 滾動到座標點\n",
    "browser.execute_script(\"window.scrollTo(0, 10000);\")\n",
    "time.sleep(3)\n",
    "\n",
    "is_continue = True\n",
    "while is_continue:\n",
    "    # 滾動的量\n",
    "    browser.execute_script(\"window.scrollBy(0, 1000);\")\n",
    "    time.sleep(1)\n",
    "    \n",
    "    html_source = browser.page_source\n",
    "    soup = BeautifulSoup(html_source, features='lxml')\n",
    "    \n",
    "    # 取得目前最後一則新聞的時間，判斷是否該結束\n",
    "    last_news = soup.find(class_=\"part_list_2\").find_all('h3')[-1]\n",
    "    last_news_time = last_news.find(class_=\"date\").text\n",
    "    last_news_time = datetime.strptime(last_news_time, '%Y/%m/%d %H:%M')\n",
    "    print(last_news_time)\n",
    "    if last_news_time < start_time:\n",
    "        is_continue = False\n",
    "\n",
    "all_news = []\n",
    "for d in soup.find(class_=\"part_list_2\").find_all('h3'):\n",
    "    news_time = d.find(class_=\"date\").text\n",
    "    news_time = datetime.strptime(news_time, '%Y/%m/%d %H:%M')\n",
    "    if (news_time >= start_time) and (news_time <= end_time):\n",
    "        all_news.append(\n",
    "            {\n",
    "                'date': news_time,\n",
    "                'title': d.find_all('a')[-1].text,\n",
    "                'url': 'https://www.ettoday.net' + d.find_all('a')[-1].get('href')\n",
    "            }\n",
    "        )\n",
    "\n",
    "# 關閉瀏覽器\n",
    "browser.quit()"
   ]
  },
  {
   "cell_type": "code",
   "execution_count": 6,
   "metadata": {},
   "outputs": [
    {
     "name": "stdout",
     "output_type": "stream",
     "text": [
      "三天前下午三點到五點的新聞共有 125 則\n",
      "\n",
      "————— 最新的前三則 —————\n",
      "[{'date': datetime.datetime(2020, 6, 22, 17, 0),\n",
      "  'title': '英國將取消「社交距離」限制！\\u3000酒吧、餐廳「第三階段」恢復營業',\n",
      "  'url': 'https://www.ettoday.net/news/20200622/1743547.htm'},\n",
      " {'date': datetime.datetime(2020, 6, 22, 17, 0),\n",
      "  'title': '炭火烤香甜多汁！台中超夯百元烤肉飯\\u3000料多熱湯免費喝到飽',\n",
      "  'url': 'https://www.ettoday.net/news/20200622/1741091.htm'},\n",
      " {'date': datetime.datetime(2020, 6, 22, 16, 59),\n",
      "  'title': '5月失業率4.07％\\u3000創8年以來同期新高',\n",
      "  'url': 'https://www.ettoday.net/news/20200622/1743917.htm'}]\n",
      "\n",
      "————— 最舊的後三則 —————\n",
      "[{'date': datetime.datetime(2020, 6, 22, 15, 0),\n",
      "  'title': 'LINE社群上線二／最高支援達5000人\\u3000管理員、共同管理員權限看這裡',\n",
      "  'url': 'https://www.ettoday.net/news/20200622/1743754.htm'},\n",
      " {'date': datetime.datetime(2020, 6, 22, 15, 0),\n",
      "  'title': 'LINE社群上線ㄧ／最快明日上線試營運\\u3000用戶首次使用指南跟著做',\n",
      "  'url': 'https://www.ettoday.net/news/20200622/1743751.htm'},\n",
      " {'date': datetime.datetime(2020, 6, 22, 15, 0),\n",
      "  'title': '抹茶千層濃郁綿密！貓空純白景觀咖啡廳\\u3000戶外位眺望山景超療癒',\n",
      "  'url': 'https://www.ettoday.net/news/20200622/1741048.htm'}]\n"
     ]
    }
   ],
   "source": [
    "print(f'三天前下午三點到五點的新聞共有 {len(all_news)} 則')\n",
    "print('\\n————— 最新的前三則 —————')\n",
    "pprint(all_news[:3])\n",
    "print('\\n————— 最舊的後三則 —————')\n",
    "pprint(all_news[-3:])"
   ]
  },
  {
   "cell_type": "code",
   "execution_count": null,
   "metadata": {},
   "outputs": [],
   "source": []
  }
 ],
 "metadata": {
  "kernelspec": {
   "display_name": "Python 3",
   "language": "python",
   "name": "python3"
  },
  "language_info": {
   "codemirror_mode": {
    "name": "ipython",
    "version": 3
   },
   "file_extension": ".py",
   "mimetype": "text/x-python",
   "name": "python",
   "nbconvert_exporter": "python",
   "pygments_lexer": "ipython3",
   "version": "3.6.8"
  }
 },
 "nbformat": 4,
 "nbformat_minor": 2
}
