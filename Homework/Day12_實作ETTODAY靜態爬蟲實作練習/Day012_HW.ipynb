{
 "cells": [
  {
   "cell_type": "markdown",
   "metadata": {},
   "source": [
    "# Ettoday 網路爬蟲實作練習\n",
    "\n",
    "\n",
    "* 能夠利用 Request + BeatifulSour 撰寫爬蟲，並存放到合適的資料結構\n"
   ]
  },
  {
   "cell_type": "markdown",
   "metadata": {},
   "source": [
    "## 作業目標\n",
    "\n",
    "根據範例 ，完成以下問題：\n",
    "\n",
    "* ① 取出今天所有的發文\n",
    "* ② 如果想要依照類別分類，怎麼儲存會比較好？\n",
    "* ③ 哪一個類別的文章最多\n",
    "\n",
    "\n"
   ]
  },
  {
   "cell_type": "code",
   "execution_count": 1,
   "metadata": {},
   "outputs": [],
   "source": [
    "import time\n",
    "import requests\n",
    "from pprint import pprint\n",
    "from datetime import datetime\n",
    "from bs4 import BeautifulSoup\n",
    "\n",
    "\n",
    "def get_articles(soup, crawler_date=datetime.now()):\n",
    "    \"\"\"取得頁面中今天的文章，並整理成Dict\n",
    "\n",
    "        Args:\n",
    "            soup: BeautifulSoup物件\n",
    "            crawler_date: 爬取日期(預設今日)\n",
    "        Returns:\n",
    "            articles: 爬取到的文章\n",
    "            is_continue: 是否尚未結束\n",
    "        \"\"\"\n",
    "    is_continue = True\n",
    "    articles = []\n",
    "    for article_block in soup.select('h3'):\n",
    "        time_text = article_block.select_one('.date').text\n",
    "        time_ = datetime.strptime(time_text, '%Y/%m/%d %H:%M')\n",
    "        category = article_block.select_one('.tag').text\n",
    "        title = article_block.select_one('a').text\n",
    "        url_ = 'https://www.ettoday.net' + article_block.select_one('a').get('href')\n",
    "        if time_.date() == crawler_date.date():\n",
    "            articles.append(\n",
    "                {\n",
    "                    '時間': time_,\n",
    "                    '類別': category,\n",
    "                    '標題': title,\n",
    "                    'URL': url_\n",
    "                }\n",
    "            )\n",
    "        else:\n",
    "            is_continue = False\n",
    "            break\n",
    "    return articles, is_continue"
   ]
  },
  {
   "cell_type": "markdown",
   "metadata": {},
   "source": [
    "### ① 取出今天所有的發文"
   ]
  },
  {
   "cell_type": "code",
   "execution_count": 2,
   "metadata": {
    "scrolled": false
   },
   "outputs": [
    {
     "name": "stdout",
     "output_type": "stream",
     "text": [
      "共有 100 則新聞\n",
      "以下顯示最新一則：\n",
      "{'URL': 'https://www.ettoday.net/news/20200614/1737471.htm',\n",
      " '時間': datetime.datetime(2020, 6, 14, 13, 49),\n",
      " '標題': '中職二軍／相隔612天登板\\u3000林國裕先發13球失1分',\n",
      " '類別': '體育'}\n"
     ]
    }
   ],
   "source": [
    "url = 'https://www.ettoday.net/news/news-list.htm'\n",
    "r = requests.get(url)\n",
    "\n",
    "soup = BeautifulSoup(r.text, 'html.parser')\n",
    "soup = soup.select_one('.part_list_2')\n",
    "\n",
    "articles, _ = get_articles(soup)\n",
    "\n",
    "print(f'共有 {len(articles)} 則新聞')\n",
    "print('以下顯示最新一則：')\n",
    "pprint(articles[0])"
   ]
  },
  {
   "cell_type": "code",
   "execution_count": 3,
   "metadata": {},
   "outputs": [
    {
     "name": "stdout",
     "output_type": "stream",
     "text": [
      "請輸入想爬取的日期(格式\"2020/06/12\"，預設今日)：2020/06/13\n",
      "——————————————————————————————\n",
      "共有 578 則新聞\n",
      "以下顯示最新一則：\n",
      "{'URL': 'https://www.ettoday.net/news/20200613/1737320.htm',\n",
      " '時間': datetime.datetime(2020, 6, 13, 23, 54),\n",
      " '標題': '快訊／台鐵深夜出事！「太魯閣號」彰化平交道碰撞\\u3000雙向延誤至少3小時',\n",
      " '類別': '社會'}\n"
     ]
    }
   ],
   "source": [
    "# 取得真正的\"今天所有的發文\"\n",
    "# 發現到 ETtoday 的此頁面只會載入前100則新聞\n",
    "# 後續採動態載入的方式\n",
    "\n",
    "url = \"https://www.ettoday.net/show_roll.php\"\n",
    "\n",
    "date_text = input('請輸入想爬取的日期(格式\"2020/06/12\"，預設今日)：').strip()\n",
    "if date_text:\n",
    "    try:\n",
    "        crawler_date = datetime.strptime(date_text, '%Y/%m/%d')\n",
    "    except ValueError:\n",
    "        print('輸入日期格式錯誤!')\n",
    "        crawler_date = datetime.now()\n",
    "else:\n",
    "    crawler_date = datetime.now()\n",
    "print('——————————————————————————————')\n",
    "\n",
    "date_text = crawler_date.strftime('%Y%m%d')\n",
    "all_articles = []\n",
    "is_continue = True\n",
    "index = 1\n",
    "\n",
    "# 如果新聞都還是今日的，持續爬取\n",
    "while is_continue:\n",
    "    payload = f\"offset={index}&tPage=3&tFile={date_text}.xml\"\n",
    "    headers = {'content-type': \"application/x-www-form-urlencoded\"}\n",
    "    r = requests.post(url, data=payload, headers=headers)\n",
    "\n",
    "    soup = BeautifulSoup(r.text, 'html.parser')\n",
    "\n",
    "    articles, is_continue = get_articles(soup, crawler_date)\n",
    "    all_articles.extend(articles)\n",
    "    index += 1\n",
    "    # 最多爬取50次(500篇新聞)\n",
    "    # if index > 50:\n",
    "    #     break\n",
    "    # 加入延遲，盡量不要造成對方伺服器的負擔\n",
    "    time.sleep(.5)\n",
    "\n",
    "print(f'共有 {len(all_articles)} 則新聞')\n",
    "print('以下顯示最新一則：')\n",
    "pprint(all_articles[0])"
   ]
  },
  {
   "cell_type": "markdown",
   "metadata": {},
   "source": [
    "### ② 如果想要依照類別分類，怎麼儲存會比較好？"
   ]
  },
  {
   "cell_type": "code",
   "execution_count": 4,
   "metadata": {},
   "outputs": [
    {
     "name": "stdout",
     "output_type": "stream",
     "text": [
      "[{'時間': datetime.datetime(2020, 6, 13, 22, 24), '類別': '體育', '標題': '企聯女壘／一個月拿7次勝投！\\u3000旺獅美洋將助隊衝排名', 'URL': 'https://www.ettoday.net/news/20200613/1737301.htm'}, {'時間': datetime.datetime(2020, 6, 13, 21, 57), '類別': '體育', '標題': '中職／被猿打11安仍奪跨季8連勝\\u3000萊福力感謝隊友', 'URL': 'https://www.ettoday.net/news/20200613/1737292.htm'}, {'時間': datetime.datetime(2020, 6, 13, 21, 47), '類別': '體育', '標題': 'WSBL／林文佑本季大躍進\\u3000進步獎熱門人選', 'URL': 'https://www.ettoday.net/news/20200613/1737294.htm'}, {'時間': datetime.datetime(2020, 6, 13, 21, 38), '類別': '體育', '標題': '中職／吳俊偉抗壓飆K退場哭了\\u3000周思齊鼓勵：投得很棒', 'URL': 'https://www.ettoday.net/news/20200613/1737290.htm'}, {'時間': datetime.datetime(2020, 6, 13, 21, 33), '類別': '體育', '標題': '中職／吳俊偉不穩差點換投\\u3000丘總：我們要與壓力抗衡', 'URL': 'https://www.ettoday.net/news/20200613/1737287.htm'}, {'時間': datetime.datetime(2020, 6, 13, 21, 28), '類別': '體育', '標題': '中職／跑出三壘打還達成300二壘打\\u3000周思齊：腳程不錯吧', 'URL': 'https://www.ettoday.net/news/20200613/1737273.htm'}, {'時間': datetime.datetime(2020, 6, 13, 21, 23), '類別': '體育', '標題': 'WSBL／執教首季就晉冠軍賽\\u3000邱啟益為子弟兵克制脾氣', 'URL': 'https://www.ettoday.net/news/20200613/1737286.htm'}, {'時間': datetime.datetime(2020, 6, 13, 21, 15), '類別': '體育', '標題': '中職／餅總一句話點醒\\u3000鄧志偉代打建功', 'URL': 'https://www.ettoday.net/news/20200613/1737281.htm'}, {'時間': datetime.datetime(2020, 6, 13, 21, 11), '類別': '體育', '標題': '中職／8支長打大勝桃猿\\u3000丘總：能得分要多得一點', 'URL': 'https://www.ettoday.net/news/20200613/1737282.htm'}, {'時間': datetime.datetime(2020, 6, 13, 21, 10), '類別': '體育', '標題': 'WSBL／台元輕取電信\\u3000隊史第8次晉級冠軍賽', 'URL': 'https://www.ettoday.net/news/20200613/1737279.htm'}, {'時間': datetime.datetime(2020, 6, 13, 21, 0), '類別': '體育', '標題': '中職／移防外野繳4成打擊率\\u3000陳傑憲勤練守備：還沒到最好', 'URL': 'https://www.ettoday.net/news/20200613/1737253.htm'}, {'時間': datetime.datetime(2020, 6, 13, 20, 59), '類別': '體育', '標題': '中職／唐肇廷睽違1個月先發\\u3000美技長傳+追平分獲餅總盛讚', 'URL': 'https://www.ettoday.net/news/20200613/1737276.htm'}, {'時間': datetime.datetime(2020, 6, 13, 20, 53), '類別': '體育', '標題': '中職／兄弟首局攻4分奠定勝基\\u30008比5勝猿回到龍頭', 'URL': 'https://www.ettoday.net/news/20200613/1737274.htm'}, {'時間': datetime.datetime(2020, 6, 13, 20, 26), '類別': '體育', '標題': 'WSBL／進駐千分俱樂部\\u3000黃凡珊期待1000助攻', 'URL': 'https://www.ettoday.net/news/20200613/1737266.htm'}, {'時間': datetime.datetime(2020, 6, 13, 20, 22), '類別': '體育', '標題': '戴資穎生日願望還沒想好\\u3000平常心備戰最想和拳擊、桌球國手訓練', 'URL': 'https://www.ettoday.net/news/20200613/1737259.htm'}, {'時間': datetime.datetime(2020, 6, 13, 20, 10), '類別': '體育', '標題': '中職／富邦牛棚放火遭逆轉\\u3000統一打下4連勝', 'URL': 'https://www.ettoday.net/news/20200613/1737252.htm'}, {'時間': datetime.datetime(2020, 6, 13, 20, 10), '類別': '體育', '標題': '中職／桃園球場觀眾人數4483\\u3000猿象戰票房再刷本季新高', 'URL': 'https://www.ettoday.net/news/20200613/1737232.htm'}, {'時間': datetime.datetime(2020, 6, 13, 20, 10), '類別': '體育', '標題': '中職／陳柏豪10戰僅失1分\\u3000感謝王建民傳授大聯盟動作', 'URL': 'https://www.ettoday.net/news/20200613/1737225.htm'}, {'時間': datetime.datetime(2020, 6, 13, 20, 1), '類別': '體育', '標題': '不斷更新／廖健富代打建功\\u30007局樂天5比6追至一分差', 'URL': 'https://www.ettoday.net/news/20200613/1737262.htm'}, {'時間': datetime.datetime(2020, 6, 13, 19, 51), '類別': '體育', '標題': '中職／吳俊偉默默登上中繼王\\u3000心中一直謝謝隊友守備', 'URL': 'https://www.ettoday.net/news/20200613/1737255.htm'}, {'時間': datetime.datetime(2020, 6, 13, 19, 44), '類別': '體育', '標題': 'WSBL／面子裡子雙贏\\u3000林育庭得分后之爭超前劉希曄', 'URL': 'https://www.ettoday.net/news/20200613/1737254.htm'}, {'時間': datetime.datetime(2020, 6, 13, 19, 35), '類別': '體育', '標題': '不斷更新／高孝儀接球失誤\\u3000統一追到1比2富邦', 'URL': 'https://www.ettoday.net/news/20200613/1737245.htm'}, {'時間': datetime.datetime(2020, 6, 13, 19, 27), '類別': '體育', '標題': '啟發兒童棒球熱情\\u3000前職棒球員參加迷你棒球師資研習', 'URL': 'https://www.ettoday.net/news/20200613/1737248.htm'}, {'時間': datetime.datetime(2020, 6, 13, 19, 27), '類別': '體育', '標題': '戴資穎今年首見面會200人擠爆\\u3000號碼牌秒殺、頭號粉昨天下午就來', 'URL': 'https://www.ettoday.net/news/20200613/1737247.htm'}, {'時間': datetime.datetime(2020, 6, 13, 19, 13), '類別': '體育', '標題': '「共好盃」中華白參戰確定\\u3000將與SBL、ABL 8隊爭霸', 'URL': 'https://www.ettoday.net/news/20200613/1737238.htm'}, {'時間': datetime.datetime(2020, 6, 13, 19, 11), '類別': '體育', '標題': 'WSBL／國泰跨季40連勝\\u3000連10季戰績排名龍頭', 'URL': 'https://www.ettoday.net/news/20200613/1737239.htm'}, {'時間': datetime.datetime(2020, 6, 13, 19, 5), '類別': '體育', '標題': '中職／郭阜林騎車酒駕\\u3000統一獅下二軍懲處', 'URL': 'https://www.ettoday.net/news/20200613/1737236.htm'}, {'時間': datetime.datetime(2020, 6, 13, 19, 3), '類別': '體育', '標題': '不斷更新／陳晨威滿壘適時安打\\u30005局兄弟5比3樂天', 'URL': 'https://www.ettoday.net/news/20200613/1737234.htm'}, {'時間': datetime.datetime(2020, 6, 13, 18, 58), '類別': '體育', '標題': 'SBL／李漢昇回家打球不管順位\\u3000期待享受選秀會氛圍', 'URL': 'https://www.ettoday.net/news/20200613/1737228.htm'}, {'時間': datetime.datetime(2020, 6, 13, 18, 53), '類別': '體育', '標題': '中職／修正陳禹勳出手點\\u3000曾翊誠：要求進壘角度', 'URL': 'https://www.ettoday.net/news/20200613/1737215.htm'}, {'時間': datetime.datetime(2020, 6, 13, 18, 44), '類別': '體育', '標題': '中職／林宥穎適時二壘安打\\u3000富邦悍將5局2比0領先獅', 'URL': 'https://www.ettoday.net/news/20200613/1737219.htm'}, {'時間': datetime.datetime(2020, 6, 13, 18, 27), '類別': '體育', '標題': 'SBL／台銀選秀榜眼籤\\u3000陳國維：鎖定補強小前鋒', 'URL': 'https://www.ettoday.net/news/20200613/1737211.htm'}, {'時間': datetime.datetime(2020, 6, 13, 18, 18), '類別': '體育', '標題': '不斷更新／萊福力被敲安都能化解危機\\u30003局兄弟4比1樂天', 'URL': 'https://www.ettoday.net/news/20200613/1737212.htm'}, {'時間': datetime.datetime(2020, 6, 13, 18, 17), '類別': '體育', '標題': '中職／廖乙忠先發遇瓶頸\\u3000丘總點二年級生症候群', 'URL': 'https://www.ettoday.net/news/20200613/1737213.htm'}, {'時間': datetime.datetime(2020, 6, 13, 18, 5), '類別': '體育', '標題': '中職／有球迷看會興奮一點\\u3000陳俊秀手感回溫盼延續', 'URL': 'https://www.ettoday.net/news/20200613/1737152.htm'}, {'時間': datetime.datetime(2020, 6, 13, 17, 56), '類別': '體育', '標題': 'HBL／千萬盈餘用在這\\u3000不限籃球冠軍隊補助款最多22萬', 'URL': 'https://www.ettoday.net/news/20200613/1737200.htm'}, {'時間': datetime.datetime(2020, 6, 13, 17, 46), '類別': '體育', '標題': 'SBL／九太狀元籤怎用\\u3000劉嘉發：好控衛與中鋒難尋', 'URL': 'https://www.ettoday.net/news/20200613/1737199.htm'}, {'時間': datetime.datetime(2020, 6, 13, 17, 37), '類別': '體育', '標題': '中職／歷經公主號事件\\u3000陳日昇開球見滿場球迷很有感', 'URL': 'https://www.ettoday.net/news/20200613/1737192.htm'}, {'時間': datetime.datetime(2020, 6, 13, 17, 37), '類別': '體育', '標題': '中職／首輪熱門！球探評本屆最好的純打者\\u3000江坤宇也看好林子豪', 'URL': 'https://www.ettoday.net/news/20200613/1737176.htm'}, {'時間': datetime.datetime(2020, 6, 13, 17, 36), '類別': '體育', '標題': '不斷更新／周思齊三壘安\\u3000兄弟狙擊前隊友首局4比1領先', 'URL': 'https://www.ettoday.net/news/20200613/1737194.htm'}, {'時間': datetime.datetime(2020, 6, 13, 17, 29), '類別': '體育', '標題': '中職／江國豪「除獅機」失靈\\u3000吳俊良透露原因', 'URL': 'https://www.ettoday.net/news/20200613/1737191.htm'}, {'時間': datetime.datetime(2020, 6, 13, 17, 15), '類別': '體育', '標題': '中職／輸球不找藉口\\u3000丘總勉勵「不勇敢，沒人替你堅強」', 'URL': 'https://www.ettoday.net/news/20200613/1737181.htm'}, {'時間': datetime.datetime(2020, 6, 13, 17, 9), '類別': '體育', '標題': '華南金控少棒／高雄市打敗台北市\\u3000冠軍戰強碰桃園', 'URL': 'https://www.ettoday.net/news/20200613/1737163.htm'}, {'時間': datetime.datetime(2020, 6, 13, 17, 2), '類別': '體育', '標題': '中職／林安可生涯首度扛第1棒：多敲長打就不用盜壘', 'URL': 'https://www.ettoday.net/news/20200613/1737169.htm'}, {'時間': datetime.datetime(2020, 6, 13, 16, 57), '類別': '體育', '標題': 'SBL／新人選秀會4星到位\\u3000斑霸、李漢昇成狀元大熱門', 'URL': 'https://www.ettoday.net/news/20200613/1737157.htm'}, {'時間': datetime.datetime(2020, 6, 13, 16, 51), '類別': '體育', '標題': '日職／陽岱鋼陽春彈\\u3000把握機會力拚開季', 'URL': 'https://www.ettoday.net/news/20200613/1737139.htm'}, {'時間': datetime.datetime(2020, 6, 13, 16, 45), '類別': '體育', '標題': '中職／洪總嘆少「蔣高」火力差很多\\u3000高國麟膝傷禮拜一檢查', 'URL': 'https://www.ettoday.net/news/20200613/1737151.htm'}, {'時間': datetime.datetime(2020, 6, 13, 16, 40), '類別': '體育', '標題': '中職／猿象交鋒\\u3000兄弟王威晨、詹子賢暫離先發打線', 'URL': 'https://www.ettoday.net/news/20200613/1737149.htm'}, {'時間': datetime.datetime(2020, 6, 13, 16, 29), '類別': '體育', '標題': '中職／象猿打線出爐\\u3000王威晨、詹子賢未先發', 'URL': 'https://www.ettoday.net/news/20200613/1737141.htm'}, {'時間': datetime.datetime(2020, 6, 13, 16, 27), '類別': '體育', '標題': '中職／陳傑憲、郭阜林腰部不適未先發\\u3000林安可扛第1棒', 'URL': 'https://www.ettoday.net/news/20200613/1737140.htm'}, {'時間': datetime.datetime(2020, 6, 13, 16, 27), '類別': '體育', '標題': '中職／謹記克魯茲指導\\u3000梁家榮攻守俱佳只想好好站穩一軍', 'URL': 'https://www.ettoday.net/news/20200613/1737121.htm'}, {'時間': datetime.datetime(2020, 6, 13, 16, 22), '類別': '體育', '標題': '中職二軍／王詩聰開砲5打點\\u3000富邦9比4擊退統一', 'URL': 'https://www.ettoday.net/news/20200613/1737084.htm'}, {'時間': datetime.datetime(2020, 6, 13, 15, 45), '類別': '體育', '標題': '中職／猿本季首位「投一休四」洋投！卡本特14日戰兄弟', 'URL': 'https://www.ettoday.net/news/20200613/1737104.htm'}, {'時間': datetime.datetime(2020, 6, 13, 14, 52), '類別': '體育', '標題': '日職／板凳出發依舊火燙\\u3000陽岱鋼替補開轟', 'URL': 'https://www.ettoday.net/news/20200613/1737076.htm'}, {'時間': datetime.datetime(2020, 6, 13, 14, 49), '類別': '體育', '標題': '馬大偉運彩解盤／富邦@統一\\u3000富邦打擊斷層多', 'URL': 'https://www.ettoday.net/news/20200613/1737080.htm'}, {'時間': datetime.datetime(2020, 6, 13, 14, 49), '類別': '體育', '標題': '渴望和老鷹提前續約\\u3000柯林斯：我和楊恩是年輕最佳組合', 'URL': 'https://www.ettoday.net/news/20200613/1737072.htm'}, {'時間': datetime.datetime(2020, 6, 13, 14, 38), '類別': '體育', '標題': '日職／西武史上最佳二壘手\\u3000辻發彦票選奪冠', 'URL': 'https://www.ettoday.net/news/20200613/1737007.htm'}, {'時間': datetime.datetime(2020, 6, 13, 14, 22), '類別': '體育', '標題': 'NBA貿然復賽風險高\\u3000米歇爾：比賽強度突增令人擔憂', 'URL': 'https://www.ettoday.net/news/20200613/1737059.htm'}, {'時間': datetime.datetime(2020, 6, 13, 14, 9), '類別': '體育', '標題': '與男友性行為被傳染\\u3000美國奧運奪牌希望藥檢未過', 'URL': 'https://www.ettoday.net/news/20200613/1737052.htm'}, {'時間': datetime.datetime(2020, 6, 13, 14, 3), '類別': '體育', '標題': '厄文表態反對復賽\\u3000全因抗議種族問題不公', 'URL': 'https://www.ettoday.net/news/20200613/1737049.htm'}, {'時間': datetime.datetime(2020, 6, 13, 13, 37), '類別': '體育', '標題': '羽協暑期育樂營台北、台中場即日起報名\\u3000國家級教練親臨授課', 'URL': 'https://www.ettoday.net/news/20200613/1736952.htm'}, {'時間': datetime.datetime(2020, 6, 13, 13, 25), '類別': '體育', '標題': '中職／索沙對決羅里奇\\u3000運彩看好富邦悍將止3連敗', 'URL': 'https://www.ettoday.net/news/20200613/1737028.htm'}, {'時間': datetime.datetime(2020, 6, 13, 13, 9), '類別': '體育', '標題': '中職／威拉諾首戰老東家兄弟\\u3000運彩開盤看好桃猿', 'URL': 'https://www.ettoday.net/news/20200613/1737019.htm'}, {'時間': datetime.datetime(2020, 6, 13, 12, 50), '類別': '體育', '標題': '日職／吳念庭打擊狀況好\\u3000西武監督點名先發人選', 'URL': 'https://www.ettoday.net/news/20200613/1736975.htm'}, {'時間': datetime.datetime(2020, 6, 13, 12, 41), '類別': '體育', '標題': '疫情隔離看航源解腳癢\\u3000陳浩瑋盼世界關注台灣足球', 'URL': 'https://www.ettoday.net/news/20200613/1737003.htm'}, {'時間': datetime.datetime(2020, 6, 13, 12, 28), '類別': '體育', '標題': '中職／內野售完！猿象戰進場又創新高\\u3000桃猿加開左外野', 'URL': 'https://www.ettoday.net/news/20200613/1736988.htm'}, {'時間': datetime.datetime(2020, 6, 13, 12, 25), '類別': '體育', '標題': '印尼傳奇女將評當今7大女單\\u3000讚戴資穎最強、穩定性高最全面', 'URL': 'https://www.ettoday.net/news/20200613/1736970.htm'}, {'時間': datetime.datetime(2020, 6, 13, 12, 9), '類別': '體育', '標題': '紅人前老闆生前歧視言論不斷\\u3000冠名體育館遭除名', 'URL': 'https://www.ettoday.net/news/20200613/1736974.htm'}, {'時間': datetime.datetime(2020, 6, 13, 12, 5), '類別': '體育', '標題': '日職／坂本勇人出院了\\u3000今天回一軍報到', 'URL': 'https://www.ettoday.net/news/20200613/1736950.htm'}, {'時間': datetime.datetime(2020, 6, 13, 11, 36), '類別': '體育', '標題': '尋找下一個黃柏豪！\\u3000首屆大專夏季聯盟開放報名', 'URL': 'https://www.ettoday.net/news/20200613/1736934.htm'}, {'時間': datetime.datetime(2020, 6, 13, 11, 32), '類別': '體育', '標題': '考量國際賽事旅行、當地限制\\u3000國際桌總取消9月保加利亞公開賽', 'URL': 'https://www.ettoday.net/news/20200613/1736945.htm'}, {'時間': datetime.datetime(2020, 6, 13, 11, 24), '類別': '體育', '標題': '國際籃總主席公開信\\u3000譴責種族歧視行為', 'URL': 'https://www.ettoday.net/news/20200613/1736931.htm'}, {'時間': datetime.datetime(2020, 6, 13, 11, 16), '類別': '體育', '標題': 'C羅復出首戰射丟12碼無臉見人\\u3000賽後評分排倒數第2', 'URL': 'https://www.ettoday.net/news/20200613/1736910.htm'}, {'時間': datetime.datetime(2020, 6, 13, 10, 54), '類別': '體育', '標題': '東京奧運競賽場館\\u300080%確定明年持續使用', 'URL': 'https://www.ettoday.net/news/20200613/1736918.htm'}, {'時間': datetime.datetime(2020, 6, 13, 10, 30), '類別': '體育', '標題': 'A-Rod當老闆出現挑戰\\u3000傳4、5組人馬有意收購大都會', 'URL': 'https://www.ettoday.net/news/20200613/1736904.htm'}, {'時間': datetime.datetime(2020, 6, 13, 10, 6), '類別': '體育', '標題': '大聯盟再傳2人染疫\\u3000美媒曝：一名40人名單球員確診', 'URL': 'https://www.ettoday.net/news/20200613/1736883.htm'}, {'時間': datetime.datetime(2020, 6, 13, 9, 41), '類別': '體育', '標題': '小戴老師和擊劍隊國手PK羽球\\u3000輸的要被「丟臉」現場超歡樂', 'URL': 'https://www.ettoday.net/news/20200613/1736764.htm'}, {'時間': datetime.datetime(2020, 6, 13, 9, 29), '類別': '體育', '標題': '嘉信挑戰賽／潘政琮回穩打平標準桿\\u3000第二輪遭淘汰', 'URL': 'https://www.ettoday.net/news/20200613/1736850.htm'}, {'時間': datetime.datetime(2020, 6, 13, 8, 55), '類別': '體育', '標題': 'NBA迪士尼復賽實施嚴格防疫\\u3000工作人員不得接近球員', 'URL': 'https://www.ettoday.net/news/20200613/1736817.htm'}, {'時間': datetime.datetime(2020, 6, 13, 8, 24), '類別': '體育', '標題': '大聯盟再提72場復賽方案\\u3000下最後通牒實施50場賽季', 'URL': 'https://www.ettoday.net/news/20200613/1736811.htm'}, {'時間': datetime.datetime(2020, 6, 13, 0, 15), '類別': '體育', '標題': '中職／桃猿派威拉諾穩龍頭\\u3000兄弟萊福力未嘗敗投', 'URL': 'https://www.ettoday.net/news/20200613/1736769.htm'}, {'時間': datetime.datetime(2020, 6, 13, 0, 9), '類別': '體育', '標題': '中職／洪總繼續挑戰900勝\\u3000悍將索沙先發拚止3連敗', 'URL': 'https://www.ettoday.net/news/20200613/1736765.htm'}, {'時間': datetime.datetime(2020, 6, 13, 0, 7), '類別': '體育', '標題': '少年盃／新北蘆洲1比0退地主國安\\u3000台東豐里延長絕殺西屯奪冠', 'URL': 'https://www.ettoday.net/news/20200613/1736768.htm'}]\n"
     ]
    }
   ],
   "source": [
    "all_article_category = {}\n",
    "for article in all_articles:\n",
    "    if article['類別'] in all_article_category:\n",
    "        all_article_category[article['類別']].append(article)\n",
    "    else:\n",
    "        all_article_category[article['類別']] = [article]\n",
    "\n",
    "# 用Dict依照不同分類儲存\n",
    "# print(all_article_category)\n",
    "# 因資料量大，此處只顯示'體育'分類\n",
    "print(all_article_category.get('體育', {}))"
   ]
  },
  {
   "cell_type": "markdown",
   "metadata": {},
   "source": [
    "### ③ 哪一個類別的文章最多"
   ]
  },
  {
   "cell_type": "code",
   "execution_count": 5,
   "metadata": {
    "scrolled": true
   },
   "outputs": [
    {
     "name": "stdout",
     "output_type": "stream",
     "text": [
      "社會 55\n",
      "影劇 75\n",
      "財經 8\n",
      "健康 19\n",
      "大陸 29\n",
      "時尚 25\n",
      "生活 79\n",
      "體育 83\n",
      "政治 50\n",
      "ET車雲 8\n",
      "地方 33\n",
      "國際 42\n",
      "旅遊 28\n",
      "軍武 3\n",
      "房產雲 15\n",
      "保險 4\n",
      "寵物動物 11\n",
      "3C家電 2\n",
      "消費 2\n",
      "探索 5\n",
      "論壇 2\n",
      "——————————————————————————————\n",
      "最多文章的類別是：體育\n",
      "共有 83 篇 / 全部 578 篇\n"
     ]
    }
   ],
   "source": [
    "max_category = ''\n",
    "max_length = 0\n",
    "for _category, articles in all_article_category.items():\n",
    "    print(_category, len(articles))\n",
    "    if len(articles) > max_length:\n",
    "        max_category = _category\n",
    "        max_length = len(articles)\n",
    "\n",
    "print('——————————————————————————————')\n",
    "print(f'最多文章的類別是：{max_category}')\n",
    "print(f'共有 {max_length} 篇 / 全部 {len(all_articles)} 篇')"
   ]
  },
  {
   "cell_type": "code",
   "execution_count": null,
   "metadata": {},
   "outputs": [],
   "source": []
  }
 ],
 "metadata": {
  "kernelspec": {
   "display_name": "Python 3",
   "language": "python",
   "name": "python3"
  },
  "language_info": {
   "codemirror_mode": {
    "name": "ipython",
    "version": 3
   },
   "file_extension": ".py",
   "mimetype": "text/x-python",
   "name": "python",
   "nbconvert_exporter": "python",
   "pygments_lexer": "ipython3",
   "version": "3.6.8"
  }
 },
 "nbformat": 4,
 "nbformat_minor": 2
}
