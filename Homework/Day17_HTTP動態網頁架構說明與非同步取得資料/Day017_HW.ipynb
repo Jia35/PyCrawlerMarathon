{
 "cells": [
  {
   "cell_type": "markdown",
   "metadata": {},
   "source": [
    "# HTTP 動態網頁架構說明\n",
    "\n",
    "\n",
    "* 了解動態網頁的資料爬蟲策略\n",
    "* 知道非同步網頁載入機制（Ajax）\n",
    "* 學習兩種對應動態網頁爬蟲的的策略\n"
   ]
  },
  {
   "cell_type": "markdown",
   "metadata": {},
   "source": [
    "## 作業目標\n",
    "\n",
    "回答以下問題：\n",
    "\n",
    "1. 動態網頁跟靜態網頁的差別是什麼？原本靜態網頁的做法會產生什麼問題或是缺點？\n",
    "2. 還記得我們在 ETTODAY 靜態爬蟲實作練習中，有請大家完成一個題目「取出今天所有的發文」，但仔細看其實並沒有真的把當天所有的新聞都抓回來， 試著回答看看原因是什麼？及該如何檢查？\n"
   ]
  },
  {
   "cell_type": "markdown",
   "metadata": {},
   "source": [
    "### 1. 動態網頁跟靜態網頁的差別是什麼？原本靜態網頁的做法會產生什麼問題或是缺點？"
   ]
  },
  {
   "cell_type": "markdown",
   "metadata": {},
   "source": [
    "- 靜態網⾴：透過每⼀次使用者請求，後端會產⽣一次網⾴回傳，所以請求與回傳是⼀對一的。如需更新資料要回傳整個網頁，也會影響使用者體驗。\n",
    "- 動態網⾴：透過 Ajax 的技術，來完成非同步的資料傳輸。如需更新資料只要回傳少部分的資料即可，也不必刷新整個頁面。\n",
    "\n",
    "爬蟲一般使用 requests 是取得第一次請求後回傳的網⾴，如果是動態網頁後續透過 Ajax 回傳的資料就抓取不到了。  \n",
    "目前有兩種方法爬取，第一種「模擬使⽤者打開瀏覽器」，第二種「模擬 JavaScript 取得新資料」。"
   ]
  },
  {
   "cell_type": "markdown",
   "metadata": {},
   "source": [
    "### 2. 還記得我們在 ETTODAY 靜態爬蟲實作練習中，有請大家完成一個題目「取出今天所有的發文」，但仔細看其實並沒有真的把當天所有的新聞都抓回來， 試著回答看看原因是什麼？及該如何檢查？"
   ]
  },
  {
   "cell_type": "markdown",
   "metadata": {},
   "source": [
    "**ETTODAY新聞**的[總覽網頁](https://www.ettoday.net/news/news-list.htm)一開始會有\"100則\"新聞，繼續往下滾的話，會動態載入後續的新聞(每次10則)。\n",
    "\n",
    "從瀏覽器的`開發人員工具(F12) > Network > XHR`可以查看。\n",
    "![開發人員工具](xhr.png)\n",
    "發現到它是 POST https://www.ettoday.net/show_roll.php 並帶上`Form Data`\n",
    "![動態載入網址](form_data.png)\n",
    "\n",
    "在之前的作業中，我有使用這個方式來抓取資料。  \n",
    "[Day12_實作ETTODAY靜態爬蟲實作練習](https://github.com/Jia35/PyCrawlerMarathon/blob/master/Homework/Day12_實作ETTODAY靜態爬蟲實作練習/Day012_HW.ipynb)"
   ]
  },
  {
   "cell_type": "code",
   "execution_count": null,
   "metadata": {},
   "outputs": [],
   "source": []
  }
 ],
 "metadata": {
  "kernelspec": {
   "display_name": "Python 3",
   "language": "python",
   "name": "python3"
  },
  "language_info": {
   "codemirror_mode": {
    "name": "ipython",
    "version": 3
   },
   "file_extension": ".py",
   "mimetype": "text/x-python",
   "name": "python",
   "nbconvert_exporter": "python",
   "pygments_lexer": "ipython3",
   "version": "3.6.8"
  }
 },
 "nbformat": 4,
 "nbformat_minor": 2
}
