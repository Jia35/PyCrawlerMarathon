{
 "cells": [
  {
   "cell_type": "markdown",
   "metadata": {},
   "source": [
    "# 其他工具：Grab、PyQuery\n",
    "\n",
    "\n",
    "* 利用 Grab 套件的存取 HTML 資源\n",
    "* 利用 PyQuery 套件的解析 HTML 格式\n"
   ]
  },
  {
   "cell_type": "markdown",
   "metadata": {},
   "source": [
    "## 作業目標\n",
    "\n",
    "將之前用 requests + beatifulsoup 實作的方式，改寫成 grab + pyquery，並且比較有哪些地方不同。\n",
    "\n",
    "\n",
    "\n"
   ]
  },
  {
   "cell_type": "code",
   "execution_count": 1,
   "metadata": {},
   "outputs": [],
   "source": [
    "URL = 'https://www.youtube.com/'"
   ]
  },
  {
   "cell_type": "markdown",
   "metadata": {},
   "source": [
    "## requests + BeautifulSoup\n"
   ]
  },
  {
   "cell_type": "code",
   "execution_count": 2,
   "metadata": {},
   "outputs": [
    {
     "name": "stdout",
     "output_type": "stream",
     "text": [
      "<class 'bs4.element.Tag'> YouTube\n"
     ]
    }
   ],
   "source": [
    "import requests\n",
    "from bs4 import BeautifulSoup\n",
    "\n",
    "resp = requests.get(URL)\n",
    "soup = BeautifulSoup(resp.text)\n",
    "title = soup.find('title')\n",
    "print(type(title), title.text)"
   ]
  },
  {
   "cell_type": "markdown",
   "metadata": {},
   "source": [
    "## Grab + PyQuery"
   ]
  },
  {
   "cell_type": "code",
   "execution_count": 3,
   "metadata": {
    "scrolled": false
   },
   "outputs": [
    {
     "name": "stdout",
     "output_type": "stream",
     "text": [
      "<class 'pyquery.pyquery.PyQuery'> YouTube\n",
      "<class 'pyquery.pyquery.PyQuery'> YouTube\n"
     ]
    }
   ],
   "source": [
    "from grab import Grab\n",
    "from pyquery import PyQuery as pq\n",
    "\n",
    "# Grab\n",
    "# https://grablab.org/docs/\n",
    "# PyQuery\n",
    "# https://pyquery.readthedocs.io/en/latest/\n",
    "    \n",
    "g = Grab()\n",
    "resp = g.go(URL)\n",
    "\n",
    "doc = pq(resp.body)\n",
    "title = doc('title')\n",
    "print(type(title), title.text())\n",
    "\n",
    "\n",
    "# 另外 PyQuery 也可以直接給網址來解析\n",
    "doc = pq(URL)\n",
    "title = doc('title')\n",
    "print(type(title), title.text())"
   ]
  },
  {
   "cell_type": "markdown",
   "metadata": {},
   "source": [
    "---\n",
    "[Grab] 如同 [Requests]；\n",
    "[PyQuery] 如同 [BeautifulSoup]\n",
    "\n",
    "PyQuery 完全依照 jQuery 的邏輯建構，讓我們可以在 Python 裡面寫類似 jQuery 的語法。\n",
    "\n",
    "*備註：安裝 Grab 前還需要先安裝 lxml 和 pycurl 套件。*\n",
    "\n",
    "[Grab]: https://grablab.org/docs/ \"Grab 說明文件\"\n",
    "[Requests]: https://requests.readthedocs.io/en/master/ \"Requests 說明文件\"\n",
    "[PyQuery]: https://pyquery.readthedocs.io/en/latest/ \"PyQuery 說明文件\"\n",
    "[BeautifulSoup]: https://www.crummy.com/software/BeautifulSoup/bs4/doc/ \"BeautifulSoup 說明文件\""
   ]
  },
  {
   "cell_type": "code",
   "execution_count": null,
   "metadata": {},
   "outputs": [],
   "source": []
  }
 ],
 "metadata": {
  "kernelspec": {
   "display_name": "Python 3",
   "language": "python",
   "name": "python3"
  },
  "language_info": {
   "codemirror_mode": {
    "name": "ipython",
    "version": 3
   },
   "file_extension": ".py",
   "mimetype": "text/x-python",
   "name": "python",
   "nbconvert_exporter": "python",
   "pygments_lexer": "ipython3",
   "version": "3.6.8"
  }
 },
 "nbformat": 4,
 "nbformat_minor": 2
}
