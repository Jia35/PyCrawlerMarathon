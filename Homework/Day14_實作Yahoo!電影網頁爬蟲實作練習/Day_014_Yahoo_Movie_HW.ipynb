{
 "cells": [
  {
   "cell_type": "markdown",
   "metadata": {},
   "source": [
    "# YAHOO電影爬蟲練習\n",
    "## 練習爬取電影放映資訊。必須逐步獲取電影的代號、放映地區、放映日期後，再送出查詢給伺服器。"
   ]
  },
  {
   "cell_type": "code",
   "execution_count": 1,
   "metadata": {},
   "outputs": [],
   "source": [
    "import requests\n",
    "import re\n",
    "from bs4 import BeautifulSoup"
   ]
  },
  {
   "cell_type": "markdown",
   "metadata": {},
   "source": [
    "### 先搜尋全部的電影代號(ID)資訊"
   ]
  },
  {
   "cell_type": "code",
   "execution_count": 2,
   "metadata": {},
   "outputs": [
    {
     "name": "stdout",
     "output_type": "stream",
     "text": [
      "Movie: 終極自殺旅店, ID: 10756\n",
      "Movie: 銀翼殺手最終版, ID: 10732\n",
      "Movie: 北非諜影, ID: 10725\n",
      "Movie: 金魚俱樂部, ID: 10721\n",
      "Movie: 弒婚遊戲, ID: 10717\n",
      "Movie: 108～海馬五郎的復仇與冒險～, ID: 10708\n",
      "Movie: 電影版聲之形, ID: 10706\n",
      "Movie: 殺機疑雲, ID: 10700\n",
      "Movie: 決戰最前線, ID: 10699\n",
      "Movie: 深海擴散, ID: 10697\n",
      "Movie: 殘酷街頭：暴力實錄, ID: 10692\n",
      "Movie: 普立茲記者, ID: 10670\n",
      "Movie: 殺人回憶(特別重映), ID: 10669\n",
      "Movie: 超完美社區, ID: 10664\n",
      "Movie: 非常母親, ID: 10662\n",
      "Movie: 親愛陌生人, ID: 10643\n",
      "Movie: 婚姻大崩壞, ID: 10534\n",
      "Movie: 愛上變身情人, ID: 10740\n",
      "Movie: 絕地救援, ID: 10716\n",
      "Movie: 少年Pi的奇幻漂流, ID: 10715\n",
      "Movie: 烈火情人數位修復版, ID: 10695\n",
      "Movie: 蚵豐村, ID: 10688\n",
      "Movie: 絕殺慕尼黑, ID: 10683\n",
      "Movie: 夜半歌聲, ID: 10671\n",
      "Movie: 詩情攝慾, ID: 10668\n",
      "Movie: 詭妹, ID: 10667\n",
      "Movie: 軍艦島(特別重映), ID: 10657\n",
      "Movie: 敢殺就來, ID: 10649\n",
      "Movie: 影裏, ID: 10623\n",
      "Movie: 淒厲人僧, ID: 10578\n",
      "Movie: 沖繩豆腐之戀, ID: 8284\n",
      "Movie: 諜影殺機, ID: 10742\n",
      "Movie: 蝙蝠俠：開戰時刻, ID: 10674\n",
      "Movie: 黑暗騎士：黎明昇起, ID: 10673\n",
      "Movie: 黑暗騎士, ID: 10672\n",
      "Movie: 火線獵殺令, ID: 10663\n",
      "Movie: 放飛大丈夫, ID: 10651\n",
      "Movie: 奪魂索, ID: 10650\n",
      "Movie: 罪人的控訴, ID: 10648\n",
      "Movie: 謝謝你愛過我, ID: 10637\n",
      "Movie: 猛鬼樂園, ID: 10629\n",
      "Movie: 血色羔羊, ID: 10628\n",
      "Movie: 現在，很想見你, ID: 10626\n",
      "Movie: 愛美獎行動, ID: 10600\n",
      "Movie: 雙面遊戲, ID: 10642\n",
      "Movie: 巴黎寂寞不打烊, ID: 10636\n",
      "Movie: 惡夜救援, ID: 10634\n",
      "Movie: 全境入侵, ID: 10625\n",
      "Movie: 你的鳥兒會唱歌, ID: 10618\n",
      "Movie: 怨鈴, ID: 10604\n",
      "Movie: 靠北少女, ID: 10575\n",
      "Movie: 說再見前的30分鐘, ID: 10561\n",
      "Movie: 1/2的魔法, ID: 10505\n",
      "Movie: 靈異405號房, ID: 10687\n",
      "Movie: 來自深淵 深沉靈魂的黎明  4DX/MX4D, ID: 10658\n",
      "Movie: 天氣之子, ID: 10645\n",
      "Movie: 末代皇帝, ID: 10640\n",
      "Movie: 奇蹟救援, ID: 10605\n",
      "Movie: 奪命隧道, ID: 10599\n",
      "Movie: 劇場版白箱, ID: 10621\n",
      "Movie: 壞教育, ID: 10617\n",
      "Movie: 見鬼的戀愛季節, ID: 10612\n",
      "Movie: 抽屍剝繭, ID: 10591\n",
      "Movie: 數碼寶貝 LAST EVOLUTION 絆, ID: 10572\n",
      "Movie: 美好拾光公司, ID: 10541\n",
      "Movie: 鑰命監獄, ID: 10579\n",
      "Movie: 知道天空有多藍的人啊, ID: 10526\n",
      "Movie: 女聲我最美, ID: 10528\n",
      "Movie: 特別嘉賓, ID: 10497\n",
      "Movie: 侏羅紀世界：殞落國度, ID: 10595\n",
      "Movie: 火口的二人, ID: 10555\n",
      "Movie: 我的英雄學院劇場版：英雄新世紀, ID: 10481\n",
      "Movie: 絕命直播, ID: 10548\n",
      "Movie: 託陰2：布拉姆回來了, ID: 10540\n",
      "Movie: 迷雁返家路, ID: 10533\n",
      "Movie: 第六感生死戀, ID: 10504\n",
      "Movie: 我出去醫下, ID: 10494\n",
      "Movie: 複製柔伊, ID: 10455\n",
      "Movie: 練愛iNG, ID: 10442\n",
      "Movie: 大畫特務, ID: 10478\n",
      "Movie: 明明會說話, ID: 10440\n",
      "Movie: 鳴鳥不飛：烏雲密布, ID: 10458\n",
      "Movie: 女鬼橋, ID: 10437\n",
      "Movie: 隱形人, ID: 10359\n",
      "Movie: 音速小子, ID: 9246\n",
      "Movie: 就愛斷捨離, ID: 10436\n",
      "Movie: 猛禽小隊：小丑女大解放, ID: 10268\n",
      "Movie: 1917, ID: 10189\n",
      "Movie: 肥龍過江, ID: 10449\n",
      "Movie: 你的情歌, ID: 10407\n",
      "Movie: 她們, ID: 10202\n",
      "Movie: 巧虎電影：英雄遊樂園, ID: 10429\n",
      "Movie: 不完美的正義, ID: 10243\n",
      "Movie: 絕地戰警FOR LIFE, ID: 10242\n",
      "Movie: 燃燒女子的畫像, ID: 10069\n",
      "Movie: 野蠻遊戲：全面晉級, ID: 10134\n",
      "Movie: 許怨房, ID: 10294\n",
      "Movie: 青春豬頭少年不會夢到懷夢美少女, ID: 10146\n",
      "Movie: 駭客任務, ID: 10088\n",
      "Movie: 捍衛任務3：全面開戰, ID: 9525\n",
      "Movie: 愛上觸不到的你, ID: 9516\n",
      "Movie: 沒有煙硝的愛情, ID: 9478\n",
      "Movie: 新橋戀人, ID: 9089\n",
      "Movie: 殺人回憶, ID: 1408\n",
      "Movie: 遊戲人生Zero, ID: 7546\n",
      "Movie: 失樂園, ID: 7073\n",
      "Movie: 軍艦島, ID: 6862\n",
      "Movie: 艾蜜莉的異想世界：修復版, ID: 6993\n",
      "Movie: 目擊者., ID: 6632\n",
      "Movie: 終極追殺令, ID: 6540\n",
      "Movie: 情書, ID: 6451\n",
      "Movie: 樓下的房客., ID: 5852\n",
      "Movie: 亮演人生, ID: 4673\n"
     ]
    }
   ],
   "source": [
    "# 查看目前上映那些電影，並擷取出其ID資訊\n",
    "url = 'https://movies.yahoo.com.tw/'\n",
    "resp = requests.get(url)\n",
    "resp.encoding = 'utf-8'\n",
    "\n",
    "soup = BeautifulSoup(resp.text, 'lxml')\n",
    "html = soup.find(\"select\", attrs={'name':'movie_id'})\n",
    "movie_item = html.find_all(\"option\", attrs={'data-name':re.compile('.*')})\n",
    "\n",
    "for p in movie_item:\n",
    "    print(\"Movie: %s, ID: %s\" % (p[\"data-name\"], p[\"value\"]))"
   ]
  },
  {
   "cell_type": "markdown",
   "metadata": {},
   "source": [
    "### 指定你有興趣的電影其ID，然後查詢其放映地區資訊。"
   ]
  },
  {
   "cell_type": "code",
   "execution_count": 3,
   "metadata": {},
   "outputs": [],
   "source": [
    "# 參考前一個步驟中擷取到的ID資訊，並指定ID\n",
    "movie_id = 10645   # 天氣之子"
   ]
  },
  {
   "cell_type": "code",
   "execution_count": 4,
   "metadata": {},
   "outputs": [
    {
     "name": "stdout",
     "output_type": "stream",
     "text": [
      "放映地區: 台北市, 代號(area_id): 28\n",
      "放映地區: 桃園, 代號(area_id): 16\n",
      "放映地區: 新竹, 代號(area_id): 20\n",
      "放映地區: 台中, 代號(area_id): 2\n",
      "放映地區: 台南, 代號(area_id): 10\n",
      "放映地區: 高雄, 代號(area_id): 17\n"
     ]
    }
   ],
   "source": [
    "url = 'https://movies.yahoo.com.tw/api/v1/areas_by_movie_theater'\n",
    "payload = {'movie_id':str(movie_id)}\n",
    "\n",
    "# 模擬一個header\n",
    "headers = {\n",
    "    'authority': 'movies.yahoo.com.tw',\n",
    "    'method': 'GET',\n",
    "    'path': '/api/v1/areas_by_movie_theater?movie_id=' + str(movie_id),\n",
    "    'scheme': 'https',\n",
    "    'accept': 'application/json, text/javascript, */*; q=0.01',\n",
    "    'accept-encoding': 'gzip, deflate, br',\n",
    "    'accept-language': 'zh-TW,zh;q=0.9,en-US;q=0.8,en;q=0.7,zh-CN;q=0.6',\n",
    "    'cookie': 'rxx=9s3x2fws06.1g16irnc&v=1; _ga=GA1.3.2056742944.1551651301; GUC=AQEBAQFczFpdm0IfmwSB&s=AQAAACoo4N5D&g=XMsVBw; BX=4hkdk1decm57t&b=3&s=mr; _ga=GA1.4.2056742944.1551651301; nexagesuid=82843256dd234e8e91aa73f2062f8218; browsed_movie=eyJpdiI6IlJXWWtiSWJaZlNGK2MxQnhscnVUYWc9PSIsInZhbHVlIjoiMXRhMmVHRXRIeUNjc1RBWDJzdGYwbnlIQURmWGsrcjJSMzhkbkcraDNJVUNIZEZsbzU3amlFcVZ1NzlmazJrTGpoMjVrbHk1YmpoRENXaHZTOUw1TmI2ZTZVWHdOejZQZm16RmVuMWlHTTJLaTZLVFZZVkFOMDlTd1wvSGltcytJIiwibWFjIjoiZWQ2ZjA4MmVjZmZlYjlmNjJmYmY2NGMyMDI0Njc0NWViYjVkOWE2NDg0N2RhODMxZjBjZDhiMmJhZTc2MDZhYiJ9; avi=eyJpdiI6Im1NeWFJRlVRWDR1endEcGRGUGJUbVE9PSIsInZhbHVlIjoickRpU3JuUytmcGl6cjF5OW0rNU9iZz09IiwibWFjIjoiY2VmY2NkNzZmM2NhNjY5YzlkOTcyNjE5OGEyMzU0NWYxOTdmMDRkMDY3OWNmMmZjOTMxYjc5MjI5N2Q5NGE5MiJ9; cmp=t=1559391030&j=0; _gid=GA1.4.779543841.1559391031; XSRF-TOKEN=eyJpdiI6IkhpS2hGcDRQaHlmWUJmaHdSS2Q2bHc9PSIsInZhbHVlIjoiOUVoNFk4OHI1UUZmUWRtYXhza0MyWjJSTlhlZ3RnT0VGeVJPN2JuczVRMGRFdWt2OUlsamVKeHRobFwvcHBGM0dhU3VyMXNGTHlsb2dVM2l0U1hpUGxBPT0iLCJtYWMiOiJkZWU4YzJhNjAxMTY3MzE4Y2ExNWIxYmE1ZjE1YWZlZTlhOTcyYjc4M2RlZGY4ZWNjZDYyMTA2NGYwZGViMzc2In0%3D; m_s=eyJpdiI6InpsZHZ2Tk1BZ0dxaHhETml1RjBnUXc9PSIsInZhbHVlIjoiSkNGeHUranRoXC85bDFiaDhySTJqNkJRcWdjWUxjeVRJSHVYZ1wvd2d4bWJZUTUrSHVDM0lUcW5KNHdETFZ4T1lieU81OUhzc1VoUXhZcWk0UDZSQXVFdz09IiwibWFjIjoiYmJkMDJkMDhlODIzMzcyMWY4M2NmYWNjNGVlOWRjMDIwZmVmNzAyMjE3Yzg3ZGY3ODBkZWEzZTI4MTI5ZWNmOSJ9; _gat=1; nexagesd=10',\n",
    "    'dnt': '1',\n",
    "    'mv-authorization': '21835b082e15b91a69b3851eec7b31b82ce82afb',\n",
    "    'referer': 'https://movies.yahoo.com.tw/',\n",
    "    'user-agent': 'Mozilla/5.0 (Windows NT 10.0; Win64; x64) AppleWebKit/537.36 (KHTML, like Gecko) Chrome/74.0.3729.169 Safari/537.36',\n",
    "    'x-requested-with': 'XMLHttpRequest',\n",
    "}\n",
    "    \n",
    "resp = requests.get(url, params=payload, headers=headers)\n",
    "# print(resp.json())  # 若有需要，列印出json原始碼\n",
    "\n",
    "# 這裡回傳的格式是JSON格式的資料，要解析JSON擷取資料\n",
    "for p in resp.json():\n",
    "    print('放映地區: {0}, 代號(area_id): {1}'.format(p['title'], p['area_id']))"
   ]
  },
  {
   "cell_type": "markdown",
   "metadata": {},
   "source": [
    "### 指定你想要觀看的放映地區，查詢有上映電影的場次日期"
   ]
  },
  {
   "cell_type": "code",
   "execution_count": 5,
   "metadata": {},
   "outputs": [],
   "source": [
    "# 指定放映地區\n",
    "area_id = 28   # 高雄"
   ]
  },
  {
   "cell_type": "code",
   "execution_count": 6,
   "metadata": {},
   "outputs": [
    {
     "name": "stdout",
     "output_type": "stream",
     "text": [
      "六月 14\n",
      "六月 15\n",
      "六月 16\n",
      "六月 17\n",
      "六月 18\n"
     ]
    }
   ],
   "source": [
    "# 向網站發送請求\n",
    "url = 'https://movies.yahoo.com.tw/movietime_result.html'\n",
    "payload = {'movie_id':str(movie_id), 'area_id':str(area_id)}\n",
    "resp = requests.get(url, params=payload)\n",
    "resp.encoding = 'utf-8'\n",
    "\n",
    "soup = BeautifulSoup(resp.text, 'lxml')\n",
    "movie_date = soup.find_all(\"label\", attrs={'for':re.compile(\"date_[\\d]\")})\n",
    "\n",
    "# 列印播放日期\n",
    "for date in movie_date:\n",
    "    print(\"%s %s\" % (date.p.string, date.h3.string))"
   ]
  },
  {
   "cell_type": "markdown",
   "metadata": {},
   "source": [
    "### 最後指定觀看的日期，查詢並列印出放映的電影院、放映類型(數位、3D、IMAX 3D...)、放映時間等資訊。"
   ]
  },
  {
   "cell_type": "code",
   "execution_count": 7,
   "metadata": {},
   "outputs": [],
   "source": [
    "# 選定要觀看的日期\n",
    "date = \"2020-06-14\""
   ]
  },
  {
   "cell_type": "code",
   "execution_count": 8,
   "metadata": {},
   "outputs": [],
   "source": [
    "# 向網站發送請求，獲取上映的電影院及時間資訊\n",
    "url = \"https://movies.yahoo.com.tw/ajax/pc/get_schedule_by_movie\"\n",
    "payload = {'movie_id':str(movie_id),\n",
    "           'date':date,\n",
    "           'area_id':str(area_id),\n",
    "           'theater_id':'',\n",
    "           'datetime':'',\n",
    "           'movie_type_id':''}\n",
    "\n",
    "resp = requests.get(url, params=payload)\n",
    "# print(resp.json()['view'])  # 若有需要，列印出json原始碼\n",
    "\n",
    "soup = BeautifulSoup(resp.json()['view'], 'lxml')\n",
    "html = soup.find_all(\"ul\", attrs={'data-theater_name':re.compile(\".*\")})"
   ]
  },
  {
   "cell_type": "code",
   "execution_count": 9,
   "metadata": {},
   "outputs": [
    {
     "name": "stdout",
     "output_type": "stream",
     "text": [
      "-------------  1 -------------\n",
      "電影院:    台北樂聲影城\n",
      "放映類型:  數位\n",
      "放映時間:\n",
      "2020-06-14 13:15:00\n",
      "\n",
      "-------------  2 -------------\n",
      "電影院:    台北日新威秀影城\n",
      "放映類型:  數位\n",
      "放映時間:\n",
      "2020-06-14 14:05:00\n",
      "2020-06-14 18:20:00\n",
      "\n"
     ]
    }
   ],
   "source": [
    "for index, unit in enumerate(html):\n",
    "    cinema = unit.select_one('li.adds a').text.strip()\n",
    "    category = unit.select_one('span.tapR').text.strip()\n",
    "    datetime_list = unit.select('input[name=\"schedule_list\"]')\n",
    "\n",
    "    print(f'------------- {index+1:>2d} -------------')\n",
    "    print(f'電影院:    {cinema}')\n",
    "    print(f'放映類型:  {category}')\n",
    "    print(f'放映時間:')\n",
    "    for datetime_ in datetime_list:\n",
    "        print(datetime_.get('value').strip())\n",
    "    print()"
   ]
  },
  {
   "cell_type": "code",
   "execution_count": null,
   "metadata": {},
   "outputs": [],
   "source": []
  }
 ],
 "metadata": {
  "kernelspec": {
   "display_name": "Python 3",
   "language": "python",
   "name": "python3"
  },
  "language_info": {
   "codemirror_mode": {
    "name": "ipython",
    "version": 3
   },
   "file_extension": ".py",
   "mimetype": "text/x-python",
   "name": "python",
   "nbconvert_exporter": "python",
   "pygments_lexer": "ipython3",
   "version": "3.6.8"
  }
 },
 "nbformat": 4,
 "nbformat_minor": 2
}
