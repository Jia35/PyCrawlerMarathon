{
 "cells": [
  {
   "cell_type": "markdown",
   "metadata": {
    "colab_type": "text",
    "id": "uSf0mVenUdOf"
   },
   "source": [
    "# 利用 Python 存取 API\n",
    "\n",
    "\n",
    "* 了解 Server Client 的架構與溝通方法\n",
    "* 知道 HTTP Request & Response 的內容\n",
    "* 什麼是 API？如何用 Python 程式存取 API 資料\n"
   ]
  },
  {
   "cell_type": "markdown",
   "metadata": {
    "colab_type": "text",
    "id": "FwvxVPZuUdOh"
   },
   "source": [
    "## 作業目標\n",
    "\n",
    "* 比較一下範例檔案中的「r.text」與「json.loads(r.text)」讀出來的內容有什麼差異\n",
    "* 自行尋找一個合適的 API 接口做練習，並且查看其回傳內容\n",
    "    * https://cat-fact.herokuapp.com/facts (來源：https://alexwohlbruck.github.io/cat-facts/)\n",
    "    * http://odata.wra.gov.tw/v4/RealtimeWaterLevel (來源：https://data.gov.tw/dataset/25768)\n",
    "\n"
   ]
  },
  {
   "cell_type": "markdown",
   "metadata": {
    "colab_type": "text",
    "id": "r5GIjwYuUdOi"
   },
   "source": [
    "### 比較一下範例檔案中的「r.text」與「json.loads(r.text)」讀出來的內容有什麼差異"
   ]
  },
  {
   "cell_type": "code",
   "execution_count": 5,
   "metadata": {
    "colab": {},
    "colab_type": "code",
    "id": "sVxW3MTeUdOj",
    "outputId": "a83e3e3b-eb9d-4c6d-d5d2-3a2ef30cee87"
   },
   "outputs": [
    {
     "name": "stdout",
     "output_type": "stream",
     "text": [
      "r.text資料型態：<class 'str'>\n",
      "json.loads(r.text)資料型態：<class 'list'>\n",
      "r.text 為 String格式，json.loads 會將其轉換為JSON資料，純文字後續很難使用，因此要先經過轉換解析。\n"
     ]
    }
   ],
   "source": [
    "import requests\n",
    "import json\n",
    "\n",
    "\n",
    "r = requests.get('https://api.github.com/events')\n",
    "print(f'r.text資料型態：{type(r.text)}')\n",
    "# print(r.text)\n",
    "print(f'json.loads(r.text)資料型態：{type(json.loads(r.text))}')\n",
    "# print(json.loads(r.text))\n",
    "\n",
    "print('r.text 為 String格式，json.loads 會將其轉換為JSON資料，純文字後續很難使用，因此要先經過轉換解析。')"
   ]
  },
  {
   "cell_type": "markdown",
   "metadata": {
    "colab_type": "text",
    "id": "eJwMGD6XUdOn"
   },
   "source": [
    "### 自行尋找一個合適的 API 接口做練習，並且查看其回傳內容\n",
    "\n",
    "* https://cat-fact.herokuapp.com/facts (來源：https://alexwohlbruck.github.io/cat-facts/)\n",
    "* http://odata.wra.gov.tw/v4/RealtimeWaterLevel (來源：https://data.gov.tw/dataset/25768)\n"
   ]
  },
  {
   "cell_type": "markdown",
   "metadata": {
    "colab": {},
    "colab_type": "code",
    "id": "RPISC-Y4UdOq"
   },
   "source": [
    "### cat-facts API\n",
    "由 Alex Wohlbruck 製作，[官方網站](https://cat-fact.herokuapp.com/)、[API](https://alexwohlbruck.github.io/cat-facts/)、[GitHub](https://github.com/alexwohlbruck/cat-facts)  \n",
    "可以獲取有關\"貓\"的知識。(還有其他動物，但主要是貓😆)\n",
    "\n",
    "Base URL：https://cat-fact.herokuapp.com\n",
    "\n",
    "`GET /facts`\n",
    "\n",
    "取得等待發送的用戶提交知識。\n",
    "\n",
    "參數：  \n",
    "animal_type: 動物種類(預設 'cat')\n",
    "\n",
    "例如：GET /facts?animal_type=dog\n",
    "\n",
    "`GET /facts/random`\n",
    "\n",
    "取得一個或多個隨機知識。\n",
    "\n",
    "參數：  \n",
    "animal_type: 動物種類(預設 'cat')  \n",
    "amount: 抓取數量(預設 1)\n",
    "\n",
    "例如：GET /facts/random?animal_type=dog&amount=3\n",
    "\n",
    "`GET /facts/:factID`\n",
    "\n",
    "藉由知識的ID取得知識。\n",
    "\n",
    "例如：GET /facts/5b12d7d5cf4b960d5eb02ec9\n",
    "\n",
    "---\n",
    "詳細請參考 cat-facts 官方說明頁面：https://alexwohlbruck.github.io/cat-facts/docs/endpoints/facts.html\n",
    "Fact各欄位說明頁面：https://alexwohlbruck.github.io/cat-facts/docs/models/fact.html\n"
   ]
  },
  {
   "cell_type": "code",
   "execution_count": 6,
   "metadata": {
    "colab": {},
    "colab_type": "code",
    "id": "XDvzxwA0UdOn",
    "outputId": "154b29e6-cd0d-48b9-e659-6e9a3f55e274"
   },
   "outputs": [
    {
     "name": "stdout",
     "output_type": "stream",
     "text": [
      "輸入想取得動物類別(預設\"dog\")：cat\n",
      "輸入想取得筆數(預設3筆)：5\n",
      "---------------------\n",
      "1. The largest breed of cat is the Ragdoll with males weighing in at 1 5 to 20 lbs. The heaviest domestic cat on record was a neutered male tabby named Himmy from Queensland, Australia who weighed 46 lbs. 1 5 oz.\n",
      "\n",
      "2. When a cat yawns, it's mouth opens so wide that you can count every tooth.\n",
      "\n",
      "3. While two kittens might sound like double trouble, adopting two at a time can actually make your job easier. Two cans can keep each other company, reducing their need for socialization, and they will expend energy by playing together. Kittens in the same litter often form tight sibling bonds.\n",
      "\n",
      "4. Georgia O'Keeffe was a celebrated painter, a figurehead of American modernism, a fashion icon, and... a cat owner! O'Keeffe kept a number of animals at her home in New Mexico, including her pet Siamese cat, who appears alongside O'Keeffe in a portrait shot by photographer John Candelario.\n",
      "\n",
      "5. The ancestor of all domestic cats is the African Wild Cat which still exists today.\n",
      "\n"
     ]
    }
   ],
   "source": [
    "base_url = 'https://cat-fact.herokuapp.com'\n",
    "\n",
    "# 這裡示範 GET /facts/random\n",
    "animal_type = input('輸入想取得動物類別(預設\"dog\")：') or 'dog'\n",
    "\n",
    "amount = input('輸入想取得筆數(預設3筆)：') or '3'\n",
    "if not amount.isdigit():\n",
    "    print('輸入筆數數值錯誤，改用預設值！')\n",
    "    amount = '3'\n",
    "\n",
    "print('---------------------')\n",
    "if int(amount) <= 0:\n",
    "    print('[筆數小於等於0，那我還抓什麼?!]')\n",
    "else:\n",
    "    r = requests.get(f'{base_url}/facts/random?animal_type={animal_type}&amount={amount}')\n",
    "    facts = json.loads(r.text)\n",
    "#     print(facts)\n",
    "#     print(type(facts))\n",
    "\n",
    "    if len(facts) == 0:\n",
    "        print(f'抱歉，目前沒有 \"{animal_type}\" 的知識😭')\n",
    "    for index, fact in enumerate(facts):\n",
    "        print(f'{index+1}. {fact[\"text\"]}\\n')\n"
   ]
  },
  {
   "cell_type": "code",
   "execution_count": 0,
   "metadata": {
    "colab": {},
    "colab_type": "code",
    "id": "H5EyeQRIUdOr"
   },
   "outputs": [],
   "source": []
  }
 ],
 "metadata": {
  "colab": {
   "name": "homework.ipynb",
   "provenance": []
  },
  "kernelspec": {
   "display_name": "Python 3",
   "language": "python",
   "name": "python3"
  },
  "language_info": {
   "codemirror_mode": {
    "name": "ipython",
    "version": 3
   },
   "file_extension": ".py",
   "mimetype": "text/x-python",
   "name": "python",
   "nbconvert_exporter": "python",
   "pygments_lexer": "ipython3",
   "version": "3.6.8"
  }
 },
 "nbformat": 4,
 "nbformat_minor": 1
}
