{
 "cells": [
  {
   "cell_type": "markdown",
   "metadata": {},
   "source": [
    "# Wikipedia爬蟲練習\n",
    "## 範例：練習是從Wikipedia中爬取文章。先定義一個搜尋的關鍵字，擷取該關鍵字詞的文章。"
   ]
  },
  {
   "cell_type": "code",
   "execution_count": 1,
   "metadata": {},
   "outputs": [],
   "source": [
    "import requests\n",
    "import re\n",
    "from bs4 import BeautifulSoup"
   ]
  },
  {
   "cell_type": "markdown",
   "metadata": {},
   "source": [
    "### 先定義一個我們想搜尋的字詞，並將它轉換成UTF-8編碼後的URL"
   ]
  },
  {
   "cell_type": "code",
   "execution_count": 2,
   "metadata": {},
   "outputs": [
    {
     "name": "stdout",
     "output_type": "stream",
     "text": [
      "天氣之子: %E5%A4%A9%E6%B0%A3%E4%B9%8B%E5%AD%90\n",
      "/wiki/%E5%A4%A9%E6%B0%A3%E4%B9%8B%E5%AD%90\n"
     ]
    }
   ],
   "source": [
    "input_keyword = \"天氣之子\"  # 這裡可以自己定義有興趣的關鍵字\n",
    "\n",
    "utf8_url = repr(input_keyword.encode('UTF-8')).upper()  # 編碼成UTF-8並轉成大寫字元\n",
    "# B'\\XE7\\XB6\\XB2\\XE8\\XB7\\XAF\\XE7\\X88\\XAC\\XE8\\X9F\\XB2'\n",
    "utf8_url = utf8_url.replace(\"\\\\X\", \"%\")                 # 用 '%' 取代 '\\X' \n",
    "# B'%E7%B6%B2%E8%B7%AF%E7%88%AC%E8%9F%B2'\n",
    "print(\"%s: %s\" % (input_keyword, utf8_url[2:-1:1]))     # 擷取中間的編碼結果\n",
    "\n",
    "# 組成Wiki關鍵字搜尋的網址格式\n",
    "root_keyword_link = '/wiki/' + utf8_url[2:-1:1]\n",
    "print(root_keyword_link)"
   ]
  },
  {
   "cell_type": "markdown",
   "metadata": {},
   "source": [
    "### 範例1：送出關鍵字請求後，爬取該關鍵字的文章內容"
   ]
  },
  {
   "cell_type": "code",
   "execution_count": 3,
   "metadata": {},
   "outputs": [
    {
     "name": "stdout",
     "output_type": "stream",
     "text": [
      "\n",
      "\n",
      "《天氣之子》（日語：天気の子，英語：Weathering With You）是日本動畫家新海誠編劇並執導的動畫電影，於2019年7月19日在日本上映。這是新海誠繼《你的名字》後時隔三年的又一部動畫電影，也是他的第七部及進入令和時代後的首部動畫電影[3][4][5]，更獲得代表日本角逐第92屆奧斯卡最佳國際影片獎和第44屆多倫多國際影展特別放映組的資格[6]。\n",
      "\n",
      "故事開始於東京奧運結束後的2021年（令和3年）夏天[8]，「很想試試在那光芒之中前行！」家鄉位在伊豆七島最南端的神津島高中一年級少年森嶋帆高離家出走，獨自一人來到東京都。拮据的生活迫使他不得不找份工作，終於找到的一份工作卻只是為一本古怪的神秘學雜誌擔任寫手。\n",
      "\n",
      "在這座繁忙城市裡到處取材的帆高，邂逅了與弟弟相依為命、不可思議的美少女陽菜。陽菜個性堅強、開朗。在廢棄大樓雜草叢生的屋頂上，陽菜跟帆高說：「馬上就會放晴了喔。」在陽菜這句話之後，頭頂的烏雲逐漸散去，耀眼的陽光灑落街道，灰色的世界恢復了鮮豔色彩。原來，陽菜擁有「改變天氣」的奇妙能力！在氣候異常的時代，被命運捉弄的少年少女，該如何「選擇」自己的生活？\n",
      "\n",
      "由RADWIMPS所創作的電影配樂專輯，於電影上映當日（2019年7月19日）發售。[10][11]\n",
      "\n",
      "由新海誠本人撰寫的小說，於電影上映前一日（2019年7月18日）發售。[12]角川翼文庫（日語：角川つばさ文庫）還推出由ちーこ繪製插圖、將小說內容標上振假名，適合較低年齡層讀者的版本。\n",
      "\n",
      "窪田航作畫。於《月刊Afternoon（日語：月刊アフタヌーン）》2019年9月號開始連載。\n",
      "\n",
      "首週開出16億4380萬日元的票房，位居當週票房冠軍[25]。上映三十四天，票房突破100億日元，新海誠成為在宮崎駿之後，第二位達成2部作品突破100億日元的日本電影導演[26]。截至10月27日為止，票房累計至138.2億日幣[1]。\n",
      "\n",
      "首日票房開出新台幣破千萬元[27]；首週四天票房為新台幣5405萬元[28]；2019年9月22日，上映第11天全台票房破億[29][28]；次週票房累計至新台幣1億元[28]；第三週票房累計至新台幣1.29億元[30]；第四週票房累計至新台幣1.45億元[31]；截至11月17日為止，票房累計至新台幣1.64億元[2]。\n",
      "\n",
      "上映十一天，取得201萬令吉，截止23日票房達250萬令吉。打破新海誠前作《你的名字》100萬令吉紀錄。\n",
      "\n",
      "上映十一日，票房累計1168萬港元，以2萬港元之差擊敗上映十八天蟬聯兩週票房冠軍的《玩命關頭：特別行動》[32]。\n",
      "\n",
      "上映首日，票房4570萬人民幣[33]。上映二日，票房突破1億元人民幣[34]。首週三日，票房累計1.54億人民幣。上映八日，票房突破2億元人民幣[35]。\n",
      "\n",
      "《天氣之子》在日本海外也獲得許多影評人的稱讚，主要對動畫效果，故事和音樂表達讚揚，但也不乏對一些情節上的批評，大體而論，電影獲得的正面評價居多。\n",
      "\n",
      "根據84位影評人在《爛番茄》的評論，《天氣之子》獲得了90％的支持率，平均評分為7.39 （滿分10分）。該網站的評論家一致認為：「《天氣之子》精美的動畫和敘事的吸引力，進一步確立了導演兼編劇的新海誠是一位才華橫溢的電影製片人。」 [36]在Metacritic上，基於30條評論者的評論，該電影獲得平均分為100分中的72分，表示「普遍好評」。[37]\n",
      "\n",
      "Kotaku的影評人Brian Ashcraft稱讚 「電影的某些部分令人難以置信地感動起來，並將神道教的信仰與當代日本逼真的祈禱和向神祈求儀式交織在一起，以獲取晴朗的天氣」，但後來也寫道：「《天氣之子》的最大問題是對《你的名字》的關注」。[38]為Crunchyroll\n",
      "撰寫的一位影評人Daryl Harding讚揚了電影城市的建設方面，他說對現代東京的氣氛產生了動搖，但批評了《天氣之子》與《你的名字》之間的相似之處。[39]動漫新聞網的影評人Kim Morrissy也對影片進行了總體正面評價，稱讚影片的視覺效果和使用天氣來傳達故事的隱喻，但批評影片下半部的執行情況。她寫道：「 新海誠顯然受到了故事情節的限制，那就是他需要將自己的故事改編成一個特定的情節，而這一次似乎不符合故事情節。」但也表示「這部電影在情感上沒有《你的名字》那樣強大，這是因為在劇本上過於寬鬆而無法保持巨大的感動，但是情感上仍然衷心。」[40]\n",
      "\n",
      "為ANC X（英語：ABS-CBN News Channel）撰寫的Andrew Paredes讚揚了影片的角色，故事，主題和導演新海誠。 表示「電影激動人心的情感和神道教的神秘主義很好地表現出了在現實世界中的擔憂。」然後是動畫：「新海城在這次後續行動中表現不俗，不僅向觀眾展示了東京詳細的真實度，還向人們展示了鬱鬱蔥蔥的內心生活。」[41]為《星報》撰文的Terence Toh也稱讚影片的人物和故事： 「《天氣之子》擁有奇妙的視覺效果和可愛的角色。這個故事也像雨一樣。」\n",
      "\n",
      "德國電台文化台Deutschlandfunk的Dinah Zank也討論了這部電影，稱這部電影是「關於氣候變化的奇幻寓言」，是一部巨大的藝術品。從技術上講，該作品是目前最好的動畫電影，而最令人著迷的是背景中東京的詳細表現。影片中氣候變化的話題出現在大雨天氣，導致東京沉浸在大雨之中，並將日本神話和兩位主角的愛意聯繫起來[42]。但是，南德意志報認為電影還沒有達到氣候變化這一主題，認為電影最後的兩個主角的愛意優先於從雨中拯救這座城市，更像是一部酸酸甜甜的愛情故事，這導致與氣候變化的主題有一些差距。然而，從視覺上看，電影中可以看出令人嘆為觀止的照片，並找到應對氣候變化的「令人印象深刻的世界末日的照片。」[43]\n",
      "\n",
      "\n",
      "\n"
     ]
    }
   ],
   "source": [
    "# 模擬封包的標頭\n",
    "headers = {\n",
    "    'authority': 'zh.wikipedia.org',\n",
    "    'method': 'GET',\n",
    "    'path': '/wiki/' + root_keyword_link,\n",
    "    'scheme': 'https',\n",
    "    'accept': 'text/html,application/xhtml+xml,application/xml;q=0.9,image/webp,image/apng,*/*;q=0.8,application/signed-exchange;v=b3',\n",
    "    'accept-encoding': 'gzip, deflate, br',\n",
    "    'accept-language': 'zh-TW,zh;q=0.9,en-US;q=0.8,en;q=0.7,zh-CN;q=0.6',\n",
    "    'cookie': 'GeoIP=TW:TPE:Taipei:25.05:121.53:v4; TBLkisOn=0; mwPhp7Seed=8b8; WMF-Last-Access-Global=04-Jun-2019; WMF-Last-Access=04-Jun-2019',\n",
    "    'dnt': '1',\n",
    "    #'if-modified-since': 'Tue, 04 Jun 2019 12:03:22 GMT',\n",
    "    'referer': 'https://zh.wikipedia.org/wiki/Wikipedia:%E9%A6%96%E9%A1%B5',\n",
    "    'upgrade-insecure-requests': '1',\n",
    "    'user-agent': 'Mozilla/5.0 (Windows NT 10.0; Win64; x64) AppleWebKit/537.36 (KHTML, like Gecko) Chrome/74.0.3729.169 Safari/537.36'\n",
    "}    \n",
    "\n",
    "url = 'https://zh.wikipedia.org' + root_keyword_link  # 組合關鍵字查詢URL\n",
    "resp = requests.get(url, headers=headers)\n",
    "resp.encoding = 'utf-8'\n",
    "\n",
    "html = BeautifulSoup(resp.text, \"lxml\")\n",
    "content = html.find(name='div', attrs={'id':'mw-content-text'}).find_all(name='p')\n",
    "\n",
    "#\n",
    "# 解析回傳資料，並萃取文章內容\n",
    "#\n",
    "for paragraph in content:\n",
    "    print(paragraph.get_text())\n"
   ]
  },
  {
   "cell_type": "markdown",
   "metadata": {},
   "source": [
    "### 範例2：從爬取的文章內容中，擷取出有外部連結的關鍵字。這些關鍵字在文章中是以藍色字體顯示，會連到外部的網頁，並解釋其內容。"
   ]
  },
  {
   "cell_type": "code",
   "execution_count": 4,
   "metadata": {},
   "outputs": [
    {
     "name": "stdout",
     "output_type": "stream",
     "text": [
      "外部連結: [日本] /wiki/%E6%97%A5%E6%9C%AC\n",
      "外部連結: [新海誠] /wiki/%E6%96%B0%E6%B5%B7%E8%AF%9A\n",
      "外部連結: [動畫電影] /wiki/%E5%8B%95%E7%95%AB%E9%9B%BB%E5%BD%B1\n",
      "外部連結: [你的名字] /wiki/%E4%BD%A0%E7%9A%84%E5%90%8D%E5%AD%97%E3%80%82\n",
      "外部連結: [令和] /wiki/%E4%BB%A4%E5%92%8C\n",
      "外部連結: [第92屆奧斯卡] /wiki/%E7%AC%AC92%E5%B1%86%E5%A5%A5%E6%96%AF%E5%8D%A1%E6%9C%80%E4%BD%B3%E5%9C%8B%E9%9A%9B%E5%BD%B1%E7%89%87%E8%A7%92%E9%80%90%E5%90%8D%E5%96%AE\n",
      "外部連結: [最佳國際影片獎] /wiki/%E5%A5%A5%E6%96%AF%E5%8D%A1%E6%9C%80%E4%BD%B3%E5%9B%BD%E9%99%85%E5%BD%B1%E7%89%87%E5%A5%96\n",
      "外部連結: [第44屆多倫多國際影展] /wiki/2019%E5%B9%B4%E5%A4%9A%E5%80%AB%E5%A4%9A%E5%9C%8B%E9%9A%9B%E5%BD%B1%E5%B1%95\n",
      "外部連結: [東京奧運] /wiki/2020%E5%B9%B4%E5%A4%8F%E5%AD%A3%E5%A5%A5%E6%9E%97%E5%8C%B9%E5%85%8B%E8%BF%90%E5%8A%A8%E4%BC%9A\n",
      "外部連結: [伊豆七島] /wiki/%E4%BC%8A%E8%B1%86%E7%BE%A4%E5%B3%B6\n",
      "外部連結: [神津島] /wiki/%E7%A5%9E%E6%B4%A5%E5%B3%B6%E6%9D%91\n",
      "外部連結: [東京都] /wiki/%E6%9D%B1%E4%BA%AC%E9%83%BD\n",
      "外部連結: [神秘學] /wiki/%E7%A5%9E%E7%A7%98%E5%AD%B8\n",
      "外部連結: [RADWIMPS] /wiki/RADWIMPS\n",
      "外部連結: [振假名] /wiki/%E6%8C%AF%E5%81%87%E5%90%8D\n",
      "外部連結: [日元] /wiki/%E6%97%A5%E5%85%83\n",
      "外部連結: [宮崎駿] /wiki/%E5%AE%AE%E5%B4%8E%E9%A7%BF\n",
      "外部連結: [令吉] /wiki/%E4%BB%A4%E5%90%89\n",
      "外部連結: [新海誠] /wiki/%E6%96%B0%E6%B5%B7%E8%AF%9A\n",
      "外部連結: [你的名字] /wiki/%E4%BD%A0%E7%9A%84%E5%90%8D%E5%AD%97\n",
      "外部連結: [港元] /wiki/%E6%B8%AF%E5%85%83\n",
      "外部連結: [玩命關頭：特別行動] /wiki/%E7%8B%82%E9%87%8E%E6%99%82%E9%80%9F%EF%BC%9A%E9%9B%99%E9%9B%84%E8%81%AF%E7%9B%9F\n",
      "外部連結: [票房] /wiki/%E7%A5%A8%E6%88%BF\n",
      "外部連結: [人民幣] /wiki/%E4%BA%BA%E6%B0%91%E5%B8%81\n",
      "外部連結: [票房] /wiki/%E7%A5%A8%E6%88%BF\n",
      "外部連結: [人民幣] /wiki/%E4%BA%BA%E6%B0%91%E5%B8%81\n",
      "外部連結: [票房] /wiki/%E7%A5%A8%E6%88%BF\n",
      "外部連結: [人民幣] /wiki/%E4%BA%BA%E6%B0%91%E5%B8%81\n",
      "外部連結: [票房] /wiki/%E7%A5%A8%E6%88%BF\n",
      "外部連結: [人民幣] /wiki/%E4%BA%BA%E6%B0%91%E5%B8%81\n",
      "外部連結: [爛番茄] /wiki/%E7%88%9B%E7%95%AA%E8%8C%84\n",
      "外部連結: [Metacritic] /wiki/Metacritic\n",
      "外部連結: [Kotaku] /wiki/Kotaku\n",
      "外部連結: [你的名字] /wiki/%E4%BD%A0%E7%9A%84%E5%90%8D%E5%AD%97\n",
      "外部連結: [Crunchyroll] /wiki/Crunchyroll\n",
      "外部連結: [動漫新聞網] /wiki/%E5%8B%95%E7%95%AB%E6%96%B0%E8%81%9E%E7%B6%B2\n",
      "外部連結: [神道教] /wiki/%E7%A5%9E%E9%81%93%E6%95%99\n",
      "外部連結: [東京] /wiki/%E4%B8%9C%E4%BA%AC\n",
      "外部連結: [星報] /wiki/%E6%98%9F%E6%8A%A5_(%E9%A9%AC%E6%9D%A5%E8%A5%BF%E4%BA%9A)\n",
      "外部連結: [氣候變化] /wiki/%E6%B0%A3%E5%80%99%E8%AE%8A%E5%8C%96\n",
      "外部連結: [東京] /wiki/%E4%B8%9C%E4%BA%AC\n",
      "外部連結: [南德意志報] /wiki/%E5%8D%97%E5%BE%B7%E6%84%8F%E5%BF%97%E6%8A%A5\n"
     ]
    }
   ],
   "source": [
    "for ext_link in content:\n",
    "    a_tag = ext_link.find_all('a', href=re.compile(\"^(/wiki/)((?!;)\\S)*$\"))\n",
    "    if len(a_tag) > 0:\n",
    "        for link_string in a_tag:\n",
    "            a_link = link_string[\"href\"]       # 外部連結的網址\n",
    "            a_keyword = link_string.get_text()  # 外部連結的中文名稱\n",
    "            print(\"外部連結: [%s] %s\" % (a_keyword, a_link))"
   ]
  },
  {
   "cell_type": "markdown",
   "metadata": {},
   "source": [
    "## 作業：接下來定義一個爬蟲函數，這個函數的主要工作為：\n",
    "### (1) 爬取當前關鍵字的解釋，並存入檔案(因為文章內容太多會佔滿整個頁面，所以存程檔案，方便後續檢視)\n",
    "### (2) 萃取出當前關鍵字所引用的外部連結，當作新的查詢關鍵字\n",
    "### (3) 把第(2)擷取到的關鍵字當作新的關鍵字，回到第(1)步，爬取新的關鍵字解釋。"
   ]
  },
  {
   "cell_type": "code",
   "execution_count": 5,
   "metadata": {},
   "outputs": [],
   "source": [
    "def WikiArticle(key_word_link, key_word, recursive):\n",
    "    \n",
    "    if (recursive <= max_recursive_depth):\n",
    "        print(\"遞迴層[%d] - %s (%s)\" % (recursive, key_word_link, key_word))\n",
    "        \n",
    "        # 模擬封包的標頭\n",
    "        headers = {\n",
    "            'authority': 'zh.wikipedia.org',\n",
    "            'method': 'GET',\n",
    "            'path': '/wiki/' + key_word_link,\n",
    "            'scheme': 'https',\n",
    "            'accept': 'text/html,application/xhtml+xml,application/xml;q=0.9,image/webp,image/apng,*/*;q=0.8,application/signed-exchange;v=b3',\n",
    "            'accept-encoding': 'gzip, deflate, br',\n",
    "            'accept-language': 'zh-TW,zh;q=0.9,en-US;q=0.8,en;q=0.7,zh-CN;q=0.6',\n",
    "            'cookie': 'GeoIP=TW:TPE:Taipei:25.05:121.53:v4; TBLkisOn=0; mwPhp7Seed=8b8; WMF-Last-Access-Global=04-Jun-2019; WMF-Last-Access=04-Jun-2019',\n",
    "            'dnt': '1',\n",
    "            #'if-modified-since': 'Tue, 04 Jun 2019 12:03:22 GMT',\n",
    "            'referer': 'https://zh.wikipedia.org/wiki/Wikipedia:%E9%A6%96%E9%A1%B5',\n",
    "            'upgrade-insecure-requests': '1',\n",
    "            'user-agent': 'Mozilla/5.0 (Windows NT 10.0; Win64; x64) AppleWebKit/537.36 (KHTML, like Gecko) Chrome/74.0.3729.169 Safari/537.36'\n",
    "        }    \n",
    "\n",
    "        url = 'https://zh.wikipedia.org' + key_word_link  # 組合關鍵字查詢URL\n",
    "        resp = requests.get(url, headers=headers)\n",
    "        resp.encoding = 'utf-8'\n",
    "\n",
    "        html = BeautifulSoup(resp.text, \"lxml\")\n",
    "        content = html.find(name='div', attrs={'id':'mw-content-text'}).find_all(name='p')\n",
    "        \n",
    "        #\n",
    "        # Part 1: 請參考範例1，爬取當前關鍵字的文章內容。\n",
    "        #         因為內容太多，我們把它寫入檔案，並以關鍵字作為檔案名稱，以便稍後查閱內容。\n",
    "        #         請先建立一個名為\"WikiArticle\"的資料夾，爬取到的文章內容會放在這個資料夾底下。\n",
    "        #\n",
    "        with open(f\"WikiArticle/{key_word}.txt\", \"w\", encoding=\"utf-8\") as fh:\n",
    "            for paragraph in content:\n",
    "                fh.write(paragraph.get_text())\n",
    "        \n",
    "        #\n",
    "        # Part 2: 請參考範例2，萃取出本篇文章中所延伸引用的外部連結，並儲存在external_link_dict\n",
    "        #\n",
    "        external_link_dict = dict({})\n",
    "        for ext_link in content:\n",
    "            a_tag = ext_link.find_all('a', href=re.compile(\"^(/wiki/)((?!;)\\S)*$\"))\n",
    "            if len(a_tag) > 0:\n",
    "                for link_string in a_tag:\n",
    "                    a_link = link_string[\"href\"]       # 外部連結的網址\n",
    "                    a_keyword = link_string.get_text()  # 外部連結的中文名稱\n",
    "#                     a_keyword = link_string.get('title')\n",
    "                    external_link_dict[a_link] = a_keyword\n",
    "\n",
    "                    \n",
    "        #\n",
    "        # Part 3: 將Part 2所收集的外部連結，當作新的關鍵字，繼續迭代深入爬蟲\n",
    "        #\n",
    "        if (len(external_link_dict) > 0):\n",
    "            recursive = recursive + 1  # 遞迴深度加1\n",
    "            for k, v in external_link_dict.items():\n",
    "                WikiArticle(k, v, recursive)  # 再次呼叫同樣的函數，執行同樣的流程\n",
    "                "
   ]
  },
  {
   "cell_type": "markdown",
   "metadata": {},
   "source": [
    "### 執行前個步驟定義好的爬蟲主程式"
   ]
  },
  {
   "cell_type": "code",
   "execution_count": 6,
   "metadata": {
    "scrolled": true
   },
   "outputs": [
    {
     "name": "stdout",
     "output_type": "stream",
     "text": [
      "遞迴層[0] - /wiki/%E5%A4%A9%E6%B0%A3%E4%B9%8B%E5%AD%90 (天氣之子)\n",
      "遞迴層[1] - /wiki/%E6%97%A5%E6%9C%AC (日本)\n",
      "遞迴層[1] - /wiki/%E6%96%B0%E6%B5%B7%E8%AF%9A (新海誠)\n",
      "遞迴層[1] - /wiki/%E5%8B%95%E7%95%AB%E9%9B%BB%E5%BD%B1 (動畫電影)\n",
      "遞迴層[1] - /wiki/%E4%BD%A0%E7%9A%84%E5%90%8D%E5%AD%97%E3%80%82 (你的名字)\n",
      "遞迴層[1] - /wiki/%E4%BB%A4%E5%92%8C (令和)\n",
      "遞迴層[1] - /wiki/%E7%AC%AC92%E5%B1%86%E5%A5%A5%E6%96%AF%E5%8D%A1%E6%9C%80%E4%BD%B3%E5%9C%8B%E9%9A%9B%E5%BD%B1%E7%89%87%E8%A7%92%E9%80%90%E5%90%8D%E5%96%AE (第92屆奧斯卡)\n",
      "遞迴層[1] - /wiki/%E5%A5%A5%E6%96%AF%E5%8D%A1%E6%9C%80%E4%BD%B3%E5%9B%BD%E9%99%85%E5%BD%B1%E7%89%87%E5%A5%96 (最佳國際影片獎)\n",
      "遞迴層[1] - /wiki/2019%E5%B9%B4%E5%A4%9A%E5%80%AB%E5%A4%9A%E5%9C%8B%E9%9A%9B%E5%BD%B1%E5%B1%95 (第44屆多倫多國際影展)\n",
      "遞迴層[1] - /wiki/2020%E5%B9%B4%E5%A4%8F%E5%AD%A3%E5%A5%A5%E6%9E%97%E5%8C%B9%E5%85%8B%E8%BF%90%E5%8A%A8%E4%BC%9A (東京奧運)\n",
      "遞迴層[1] - /wiki/%E4%BC%8A%E8%B1%86%E7%BE%A4%E5%B3%B6 (伊豆七島)\n",
      "遞迴層[1] - /wiki/%E7%A5%9E%E6%B4%A5%E5%B3%B6%E6%9D%91 (神津島)\n",
      "遞迴層[1] - /wiki/%E6%9D%B1%E4%BA%AC%E9%83%BD (東京都)\n",
      "遞迴層[1] - /wiki/%E7%A5%9E%E7%A7%98%E5%AD%B8 (神秘學)\n",
      "遞迴層[1] - /wiki/RADWIMPS (RADWIMPS)\n",
      "遞迴層[1] - /wiki/%E6%8C%AF%E5%81%87%E5%90%8D (振假名)\n",
      "遞迴層[1] - /wiki/%E6%97%A5%E5%85%83 (日元)\n",
      "遞迴層[1] - /wiki/%E5%AE%AE%E5%B4%8E%E9%A7%BF (宮崎駿)\n",
      "遞迴層[1] - /wiki/%E4%BB%A4%E5%90%89 (令吉)\n",
      "遞迴層[1] - /wiki/%E4%BD%A0%E7%9A%84%E5%90%8D%E5%AD%97 (你的名字)\n",
      "遞迴層[1] - /wiki/%E6%B8%AF%E5%85%83 (港元)\n",
      "遞迴層[1] - /wiki/%E7%8B%82%E9%87%8E%E6%99%82%E9%80%9F%EF%BC%9A%E9%9B%99%E9%9B%84%E8%81%AF%E7%9B%9F (玩命關頭：特別行動)\n",
      "遞迴層[1] - /wiki/%E7%A5%A8%E6%88%BF (票房)\n",
      "遞迴層[1] - /wiki/%E4%BA%BA%E6%B0%91%E5%B8%81 (人民幣)\n",
      "遞迴層[1] - /wiki/%E7%88%9B%E7%95%AA%E8%8C%84 (爛番茄)\n",
      "遞迴層[1] - /wiki/Metacritic (Metacritic)\n",
      "遞迴層[1] - /wiki/Kotaku (Kotaku)\n",
      "遞迴層[1] - /wiki/Crunchyroll (Crunchyroll)\n",
      "遞迴層[1] - /wiki/%E5%8B%95%E7%95%AB%E6%96%B0%E8%81%9E%E7%B6%B2 (動漫新聞網)\n",
      "遞迴層[1] - /wiki/%E7%A5%9E%E9%81%93%E6%95%99 (神道教)\n",
      "遞迴層[1] - /wiki/%E4%B8%9C%E4%BA%AC (東京)\n",
      "遞迴層[1] - /wiki/%E6%98%9F%E6%8A%A5_(%E9%A9%AC%E6%9D%A5%E8%A5%BF%E4%BA%9A) (星報)\n",
      "遞迴層[1] - /wiki/%E6%B0%A3%E5%80%99%E8%AE%8A%E5%8C%96 (氣候變化)\n",
      "遞迴層[1] - /wiki/%E5%8D%97%E5%BE%B7%E6%84%8F%E5%BF%97%E6%8A%A5 (南德意志報)\n"
     ]
    }
   ],
   "source": [
    "# 定義爬取的遞迴深度。深度不要訂太深，否則會爬很久。\n",
    "max_recursive_depth = 1\n",
    "\n",
    "WikiArticle(root_keyword_link, input_keyword, 0)"
   ]
  },
  {
   "cell_type": "code",
   "execution_count": null,
   "metadata": {},
   "outputs": [],
   "source": []
  }
 ],
 "metadata": {
  "kernelspec": {
   "display_name": "Python 3",
   "language": "python",
   "name": "python3"
  },
  "language_info": {
   "codemirror_mode": {
    "name": "ipython",
    "version": 3
   },
   "file_extension": ".py",
   "mimetype": "text/x-python",
   "name": "python",
   "nbconvert_exporter": "python",
   "pygments_lexer": "ipython3",
   "version": "3.6.8"
  }
 },
 "nbformat": 4,
 "nbformat_minor": 2
}
