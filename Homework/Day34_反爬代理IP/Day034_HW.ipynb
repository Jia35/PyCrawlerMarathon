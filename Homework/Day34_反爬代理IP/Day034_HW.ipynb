{
 "cells": [
  {
   "cell_type": "markdown",
   "metadata": {
    "colab_type": "text",
    "id": "I8CoX4R7VoCd"
   },
   "source": [
    "# 反爬：代理伺服器/IP\n",
    "\n",
    "* 了解「IP 黑/白名單」的反爬蟲機制\n",
    "* 「IP 黑/白名單」反爬蟲的因應策略"
   ]
  },
  {
   "cell_type": "markdown",
   "metadata": {
    "colab_type": "text",
    "id": "n-3DZ_r5VoCe"
   },
   "source": [
    "## 作業目標\n",
    "\n",
    "* 目前程式中的 proxy_ips 是手動輸入的，請根據 https://free-proxy-list.net/ 寫一個可自動化抓取可用 Proxy 的 proxy_ips。\n",
    "\n",
    "\n"
   ]
  },
  {
   "cell_type": "code",
   "execution_count": 1,
   "metadata": {},
   "outputs": [],
   "source": [
    "from bs4 import BeautifulSoup\n",
    "import requests\n",
    "import random"
   ]
  },
  {
   "cell_type": "code",
   "execution_count": 2,
   "metadata": {
    "colab": {},
    "colab_type": "code",
    "id": "iny-9heBVoCf",
    "scrolled": true
   },
   "outputs": [
    {
     "name": "stdout",
     "output_type": "stream",
     "text": [
      "抓取到 300 個IP\n",
      "['45.123.42.149:37740', '177.5.246.28:8080', '88.99.10.248:1080', '95.161.188.246:53641', '118.174.232.44:38093', '196.1.184.6:55330', '85.10.219.97:1080', '85.10.219.100:1080', '94.243.140.162:40960', '118.174.220.14:43473']\n"
     ]
    }
   ],
   "source": [
    "proxy_ips = []\n",
    "\n",
    "r = requests.get('https://free-proxy-list.net/')\n",
    "soup = BeautifulSoup(r.text, features='lxml')\n",
    "proxy_blocks = soup.select('#proxylisttable tbody tr')\n",
    "\n",
    "for proxy_block in proxy_blocks:\n",
    "    ip = proxy_block.select_one('td:nth-of-type(1)').text\n",
    "    port = proxy_block.select_one('td:nth-of-type(2)').text\n",
    "    proxy_ips.append(f'{ip}:{port}')\n",
    "                        \n",
    "print(f'抓取到 {len(proxy_ips)} 個IP')\n",
    "print(proxy_ips[:10])"
   ]
  },
  {
   "cell_type": "code",
   "execution_count": 3,
   "metadata": {
    "colab": {},
    "colab_type": "code",
    "id": "75dIsHjiVoCi"
   },
   "outputs": [
    {
     "name": "stdout",
     "output_type": "stream",
     "text": [
      "Use 43.224.116.218:51370\n",
      "O成功 Your IP address: 43.224.116.218\n",
      "Use 128.199.202.122:8080\n",
      "O成功 Your IP address: 128.199.202.122\n",
      "Use 195.69.221.198:55282\n",
      "X失敗\n",
      "Use 52.244.32.87:80\n",
      "O成功 Your IP address: 52.244.34.184\n",
      "Use 103.242.106.212:8080\n",
      "X失敗\n",
      "Use 77.120.137.143:8080\n",
      "X失敗\n",
      "Use 173.212.202.65:80\n",
      "X失敗\n",
      "Use 145.249.249.9:8080\n",
      "X失敗\n",
      "Use 185.134.23.198:80\n",
      "X失敗\n",
      "Use 138.68.60.8:8080\n",
      "O成功 Your IP address: 138.68.60.8\n"
     ]
    }
   ],
   "source": [
    "# 隨機挑選10個來測試\n",
    "for i in range(10):\n",
    "    ip = random.choice(proxy_ips)\n",
    "    print('Use', ip)\n",
    "    try:\n",
    "        resp = requests.get('http://ip.filefab.com/index.php',\n",
    "                        proxies={'http': ip, 'https': ip}, timeout=10)\n",
    "        soup = BeautifulSoup(resp.text, features='lxml')\n",
    "        print('O成功', soup.find('h1', id='ipd').text.strip())\n",
    "    except:\n",
    "        print('X失敗')"
   ]
  },
  {
   "cell_type": "code",
   "execution_count": null,
   "metadata": {},
   "outputs": [],
   "source": []
  }
 ],
 "metadata": {
  "colab": {
   "name": "homework.ipynb",
   "provenance": []
  },
  "kernelspec": {
   "display_name": "Python 3",
   "language": "python",
   "name": "python3"
  },
  "language_info": {
   "codemirror_mode": {
    "name": "ipython",
    "version": 3
   },
   "file_extension": ".py",
   "mimetype": "text/x-python",
   "name": "python",
   "nbconvert_exporter": "python",
   "pygments_lexer": "ipython3",
   "version": "3.6.8"
  }
 },
 "nbformat": 4,
 "nbformat_minor": 1
}
