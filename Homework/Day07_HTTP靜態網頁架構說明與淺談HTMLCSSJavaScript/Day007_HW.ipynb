{
 "cells": [
  {
   "cell_type": "markdown",
   "metadata": {},
   "source": [
    "# HTTP 靜態網頁架構說明\n",
    "\n",
    "* 認識靜態網頁的溝通架構與運作原理\n",
    "* HTML、CSS、JavaScript 在網頁中扮演的角色\n",
    "* 網頁中定位資料的方法"
   ]
  },
  {
   "cell_type": "markdown",
   "metadata": {},
   "source": [
    "## 作業目標\n",
    "\n",
    "1. （簡答題）請問目前提到的這種基於 HTTP 一來一回的網頁傳輸方式，有哪些缺點及問題？\n",
    "2. （簡答題）網頁中使用的 JavaScipt 程式語言，跟我們一般使用的 Python 在執行上有什麼不同。\n"
   ]
  },
  {
   "cell_type": "markdown",
   "metadata": {},
   "source": [
    "### 1.（簡答題）請問目前提到的這種基於 HTTP 一來一回的網頁傳輸方式，有哪些缺點及問題？"
   ]
  },
  {
   "cell_type": "markdown",
   "metadata": {},
   "source": [
    "- 通訊使用明文(不加密)，內容可能會被竊聽\n",
    "- 不驗證通訊方的身份，因此有可能遭遇偽裝\n",
    "- 無法證明報文的完整性，所以有可能已遭篡改\n",
    "\n",
    "後續衍伸出的HTTPS (S 代表 Secure 的意思)，通訊過程使用 SSL/TLS 進行加密，在 HTTP 之上定義了相對安全的資料傳輸方法。\n",
    "\n",
    "參考：  \n",
    "[一文搞懂 HTTP 和 HTTPS 是什麼？兩者有什麼差別](https://tw.alphacamp.co/blog/http-https-difference)  \n",
    "[差一個字差很多，HTTP 不等於 HTTPS](https://progressbar.tw/posts/101)"
   ]
  },
  {
   "cell_type": "markdown",
   "metadata": {},
   "source": [
    "### 2. （簡答題）網頁中使用的 JavaScipt 程式語言，跟我們一般使用的 Python 在執行上有什麼不同。"
   ]
  },
  {
   "cell_type": "markdown",
   "metadata": {},
   "source": [
    "JavaScript 與 Python 都是進階的、直譯的程式語言，它們有很多共同的特性，需要直譯器來執行、動態型別、支援自動記憶體管理等等。\n",
    "\n",
    "- Javascript 設計之初是一種客戶端的指令碼語言，主要應用於瀏覽器，它的語法主要借鑑了C。  \n",
    "- Python 由於其\"優雅\"、\"明確\"、\"簡單\"的設計而廣受歡迎，被應用於教育，科學計算，web開發等不同的場景中。  \n",
    "\n",
    "參考：  \n",
    "[Python 與 Javascript 之比較](https://codertw.com/%E7%A8%8B%E5%BC%8F%E8%AA%9E%E8%A8%80/15815/)  \n",
    "[JavaScript | 維基百科](https://zh.wikipedia.org/wiki/JavaScript)  \n",
    "[Python | 維基百科](https://zh.wikipedia.org/wiki/Python)  "
   ]
  },
  {
   "cell_type": "code",
   "execution_count": null,
   "metadata": {},
   "outputs": [],
   "source": []
  }
 ],
 "metadata": {
  "kernelspec": {
   "display_name": "Python 3",
   "language": "python",
   "name": "python3"
  },
  "language_info": {
   "codemirror_mode": {
    "name": "ipython",
    "version": 3
   },
   "file_extension": ".py",
   "mimetype": "text/x-python",
   "name": "python",
   "nbconvert_exporter": "python",
   "pygments_lexer": "ipython3",
   "version": "3.6.8"
  }
 },
 "nbformat": 4,
 "nbformat_minor": 2
}
